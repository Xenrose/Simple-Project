{
 "cells": [
  {
   "cell_type": "code",
   "execution_count": null,
   "metadata": {},
   "outputs": [],
   "source": [
    "from selenium.webdriver.chrome.service import Service\n",
    "from selenium.webdriver.common.by import By\n",
    "import chromedriver_autoinstaller\n",
    "import pandas as pd\n",
    "from selenium import webdriver\n",
    "from datetime import datetime\n",
    "from tqdm import tqdm\n",
    "import os\n",
    "import warnings\n",
    "warnings.filterwarnings('ignore')\n",
    "\n",
    "from selenium.common.exceptions import NoSuchElementException\n",
    "import ping3\n",
    "import time"
   ]
  },
  {
   "cell_type": "code",
   "execution_count": null,
   "metadata": {},
   "outputs": [],
   "source": [
    "# page crawling function\n",
    "def page_crawling(browser, date):\n",
    "    temp_df = pd.DataFrame(columns=['date', 'journal', 'title', 'url'])\n",
    "    idx = 0\n",
    "    for num in range(1, 10+1):\n",
    "        try:\n",
    "            journal = browser.find_element(By.XPATH, f'//*[@id=\"rso\"]/div/div/div[{num}]/div/div/a/div/div[2]/div[1]/span').text\n",
    "            title = browser.find_element(By.XPATH, f'//*[@id=\"rso\"]/div/div/div[{num}]/div/div/a/div/div[2]/div[2]').text\n",
    "            url = browser.find_element(By.XPATH, f'//*[@id=\"rso\"]/div/div/div[{num}]/div/div/a').get_attribute('href')\n",
    "\n",
    "            temp_df.loc[idx] = [date, journal, title, url]\n",
    "            idx += 1\n",
    "            \n",
    "        except NoSuchElementException:\n",
    "            break\n",
    "\n",
    "    \n",
    "    return temp_df"
   ]
  },
  {
   "cell_type": "code",
   "execution_count": null,
   "metadata": {},
   "outputs": [],
   "source": [
    "# chrome driver setting\n",
    "options = webdriver.ChromeOptions()\n",
    "service = Service(executable_path=chromedriver_autoinstaller.install(path = os.getcwd()))\n",
    "\n",
    "options.add_argument('--no-sandbox') # 샌박끔        \n",
    "options.add_argument('--disable-dev-shm-usage') # /dev/shm 비활\n",
    "options.add_argument('headless') # 헤드리스\n",
    "options.add_argument('--blink-settings=imagesEnabled=false') # 이미지 사용 안함\n",
    "options.add_argument('--mute-audio') # 음소거\n",
    "options.add_argument('disable-gpu')\n",
    "options.add_argument('user-agent=Mozilla/5.0 (Windows NT 10.0; Win64; x64) AppleWebKit/537.36 (KHTML, like Gecko) Chrome/123.0.0.0 Safari/537.36')\n",
    "\n",
    "\n",
    "browser = webdriver.Chrome(options=options, service=service)\n"
   ]
  },
  {
   "cell_type": "code",
   "execution_count": null,
   "metadata": {},
   "outputs": [],
   "source": [
    "# hyper parameter\n",
    "\n",
    "keyword = 'apple+stock'\n",
    "start_date = '2020-01-01'\n",
    "end_date = '2024-01-31'\n",
    "duration = pd.date_range(start_date, end_date, freq='D').strftime('%Y%m%d').tolist()\n",
    "\n",
    "\n",
    "df = pd.DataFrame(columns=['date', 'journal', 'title', 'url'])"
   ]
  },
  {
   "cell_type": "code",
   "execution_count": null,
   "metadata": {},
   "outputs": [],
   "source": [
    "omitted_list = sorted(list(set(duration) - set(df['date'].unique())))"
   ]
  },
  {
   "cell_type": "code",
   "execution_count": null,
   "metadata": {},
   "outputs": [],
   "source": [
    "cnt = 0\n",
    "while omitted_list:\n",
    "    pbar = tqdm(omitted_list, \n",
    "                desc = 'crawling_complete', \n",
    "                total = len(omitted_list),\n",
    "                leave = True)\n",
    "\n",
    "\n",
    "    hostname = 'www.google.com'\n",
    "\n",
    "    for date in pbar:\n",
    "        response = ping3.ping(hostname)\n",
    "\n",
    "        if response is None:\n",
    "            print(\"인터넷 연결상태 불량, 2분 대기 후 다시 시도합니다.\")\n",
    "            time.sleep(100)\n",
    "        \n",
    "        browser.get(f'https://www.google.com/search?q={keyword}&sca_esv=0bc39af9d1d15b37&hl=en&biw=1024&bih=1029&prmd=znivsmb&sxsrf=ACQVn0_vMs2i3NIhDdmaUW6UANsHeBObUg%3A1713107930029&source=lnt&tbs=cdr%3A1%2Ccd_min%3A{date}%2Ccd_max%3A{date}&tbm=nws')\n",
    "        browser.implicitly_wait(10)\n",
    "        # page crawling\n",
    "        result = page_crawling(browser, date)\n",
    "\n",
    "        df = pd.concat([df, result], axis=0)\n",
    "\n",
    "\n",
    "    pbar.close()\n",
    "    df.to_csv(f'../data/google_news_crawling_omitted.csv', index=False, encoding='utf-8-sig')\n",
    "\n",
    "    omitted_list = sorted(list(set(duration) - set(df['date'].unique())))\n",
    "    print(f'누락 날짜 수 : {len(omitted_list)}')\n",
    "    cnt += 1\n",
    "\n",
    "\n",
    "    if cnt ==5: break\n",
    "\n",
    "\n",
    "browser.quit()"
   ]
  },
  {
   "cell_type": "code",
   "execution_count": null,
   "metadata": {},
   "outputs": [],
   "source": []
  }
 ],
 "metadata": {
  "kernelspec": {
   "display_name": "Python 3",
   "language": "python",
   "name": "python3"
  },
  "language_info": {
   "codemirror_mode": {
    "name": "ipython",
    "version": 3
   },
   "file_extension": ".py",
   "mimetype": "text/x-python",
   "name": "python",
   "nbconvert_exporter": "python",
   "pygments_lexer": "ipython3",
   "version": "3.11.5"
  }
 },
 "nbformat": 4,
 "nbformat_minor": 2
}
