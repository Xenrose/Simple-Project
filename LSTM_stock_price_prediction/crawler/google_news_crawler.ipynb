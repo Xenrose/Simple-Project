{
 "cells": [
  {
   "cell_type": "code",
   "execution_count": 6,
   "metadata": {},
   "outputs": [
    {
     "data": {
      "text/plain": [
       "'c:\\\\Users\\\\Xenrose\\\\desktop\\\\My_git\\\\my_project\\\\LSTM_stock_price_prediction\\\\crawler\\\\123\\\\chromedriver.exe'"
      ]
     },
     "execution_count": 6,
     "metadata": {},
     "output_type": "execute_result"
    }
   ],
   "source": [
    "from selenium.webdriver.chrome.service import Service\n",
    "from selenium.webdriver.common.by import By\n",
    "import chromedriver_autoinstaller\n",
    "import pandas as pd\n",
    "from selenium import webdriver\n",
    "from datetime import datetime\n",
    "import os\n",
    "import warnings\n",
    "warnings.filterwarnings('ignore')"
   ]
  },
  {
   "cell_type": "code",
   "execution_count": 91,
   "metadata": {},
   "outputs": [],
   "source": [
    "# page crawling function\n",
    "def page_crawling(browser, date):\n",
    "    temp_df = pd.DataFrame(columns=['date', 'journal', 'title', 'url'])\n",
    "    idx = 0\n",
    "    for num in range(1, 10+1):\n",
    "        try:\n",
    "            journal = browser.find_element(By.XPATH, f'//*[@id=\"rso\"]/div/div/div[{num}]/div/div/a/div/div[2]/div[1]/span').text\n",
    "            title = browser.find_element(By.XPATH, f'//*[@id=\"rso\"]/div/div/div[{num}]/div/div/a/div/div[2]/div[2]').text\n",
    "            url = browser.find_element(By.XPATH, f'//*[@id=\"rso\"]/div/div/div[{num}]/div/div/a').get_attribute('href')\n",
    "\n",
    "            temp_df.loc[idx] = [date, journal, title, url]\n",
    "            idx += 1\n",
    "            \n",
    "        except:\n",
    "            continue\n",
    "    \n",
    "    return temp_df"
   ]
  },
  {
   "cell_type": "code",
   "execution_count": 29,
   "metadata": {},
   "outputs": [],
   "source": [
    "# chrome driver setting\n",
    "options = webdriver.ChromeOptions()\n",
    "service = Service(executable_path=chromedriver_autoinstaller.install(path = os.getcwd()))\n",
    "\n",
    "# options.add_argument('--no-sandbox') # 샌박끔        \n",
    "# options.add_argument('--disable-dev-shm-usage') # /dev/shm 비활\n",
    "# options.add_argument('headless') # 헤드리스 \n",
    "options.add_argument('window-size=1920x1080') # 헤드리스상태크기\n",
    "options.add_argument('--blink-settings=imagesEnabled=false') # 이미지 사용 안함\n",
    "options.add_argument('--mute-audio') # 음소거\n",
    "options.add_argument('disable-gpu')\n",
    "options.add_argument('lang=en_US')\n",
    "browser = webdriver.Chrome(options=options, service=service)"
   ]
  },
  {
   "cell_type": "code",
   "execution_count": 96,
   "metadata": {},
   "outputs": [],
   "source": [
    "# hyper parameter\n",
    "\n",
    "keyword = 'apple+stock'\n",
    "start_date = '2020-01-01'\n",
    "end_date = '2024-01-31'\n",
    "duration = pd.date_range(start_date, end_date, freq='D').strftime('%Y%m%d').tolist()\n",
    "\n",
    "\n",
    "df = pd.DataFrame(columns=['date', 'journal', 'title', 'url'])"
   ]
  },
  {
   "cell_type": "code",
   "execution_count": 97,
   "metadata": {},
   "outputs": [],
   "source": [
    "for date in duration[:2]:\n",
    "    browser.get(f'https://www.google.co.kr/search?q={keyword}&sca_esv=626799e4d97bcf6a&sca_upv=1&biw=1279&bih=1260&prmd=znisvbm&source=lnt&tbs=cdr%3A1%2Ccd_min%3A{date}%2Ccd_max%3A{date}&tbm=nws')\n",
    "\n",
    "    # page crawling\n",
    "    result = page_crawling(browser, date)\n",
    "\n",
    "    df = pd.concat([df, result], axis=0)"
   ]
  },
  {
   "cell_type": "code",
   "execution_count": 30,
   "metadata": {},
   "outputs": [],
   "source": [
    "browser.quit()\n",
    "\n",
    "df.to_csv('news_data.csv', index=False)"
   ]
  },
  {
   "cell_type": "code",
   "execution_count": null,
   "metadata": {},
   "outputs": [],
   "source": []
  }
 ],
 "metadata": {
  "kernelspec": {
   "display_name": "Python 3",
   "language": "python",
   "name": "python3"
  },
  "language_info": {
   "codemirror_mode": {
    "name": "ipython",
    "version": 3
   },
   "file_extension": ".py",
   "mimetype": "text/x-python",
   "name": "python",
   "nbconvert_exporter": "python",
   "pygments_lexer": "ipython3",
   "version": "3.11.5"
  }
 },
 "nbformat": 4,
 "nbformat_minor": 2
}
