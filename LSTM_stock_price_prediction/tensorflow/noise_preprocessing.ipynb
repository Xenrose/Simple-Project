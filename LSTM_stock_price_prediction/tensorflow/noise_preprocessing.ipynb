{
 "cells": [
  {
   "cell_type": "code",
   "execution_count": null,
   "metadata": {},
   "outputs": [],
   "source": [
    "from transformers import BertForSequenceClassification, BertTokenizer\n",
    "from transformers import RobertaTokenizer, RobertaForSequenceClassification\n",
    "from transformers import pipeline\n",
    "\n",
    "\n",
    "import pandas as pd\n",
    "import matplotlib.pyplot as plt"
   ]
  },
  {
   "cell_type": "code",
   "execution_count": null,
   "metadata": {},
   "outputs": [],
   "source": [
    "# bert-base-uncased\n",
    "# distilbert-base-uncased\n",
    "# roberta-base\n",
    "\n",
    "def BERT_score(model):\n",
    "    model_name = model\n",
    "    if model == 'roberta-base':\n",
    "        tokenizer = RobertaTokenizer.from_pretrained(model_name, num_labels=1)\n",
    "        model = RobertaForSequenceClassification.from_pretrained(model_name)\n",
    "        classifier = pipeline('sentiment-analysis', model=model, tokenizer=tokenizer)\n",
    "\n",
    "    else:\n",
    "        model = BertForSequenceClassification.from_pretrained(model_name, num_labels=1)\n",
    "        tokenizer = BertTokenizer.from_pretrained(model_name)\n",
    "        classifier = pipeline('sentiment-analysis', model=model, tokenizer=tokenizer)\n",
    "\n",
    "    return classifier"
   ]
  },
  {
   "cell_type": "code",
   "execution_count": null,
   "metadata": {},
   "outputs": [],
   "source": [
    "# bert-base-uncased\n",
    "\n",
    "classifier1 = BERT_score('bert-base-uncased')\n",
    "df1 = pd.read_csv('./crawler/google_news_crawling.csv')\n",
    "df1['sentiment_label'] = df1['title'].apply(lambda x: classifier1(x)[0]['label'])\n",
    "df1['sentiment_score'] = df1['title'].apply(lambda x: classifier1(x)[0]['score'])"
   ]
  },
  {
   "cell_type": "code",
   "execution_count": null,
   "metadata": {},
   "outputs": [],
   "source": [
    "# distilbert-base-uncased\n",
    "classifier2 = BERT_score('distilbert-base-uncased')\n",
    "df2 = pd.read_csv('../data/google_news_crawling.csv')\n",
    "df2['sentiment_label'] = df2['title'].apply(lambda x: classifier2(x)[0]['label'])\n",
    "df2['sentiment_score'] = df2['title'].apply(lambda x: classifier2(x)[0]['score'])"
   ]
  },
  {
   "cell_type": "code",
   "execution_count": null,
   "metadata": {},
   "outputs": [],
   "source": [
    "# roberta-base\n",
    "# distilbert-base-uncased\n",
    "classifier3 = BERT_score('roberta-base')\n",
    "df3 = pd.read_csv('../data/google_news_crawling.csv')\n",
    "df3['sentiment_label'] = df3['title'].apply(lambda x: classifier3(x)[0]['label'])\n",
    "df3['sentiment_score'] = df3['title'].apply(lambda x: classifier3(x)[0]['score'])"
   ]
  },
  {
   "cell_type": "code",
   "execution_count": null,
   "metadata": {},
   "outputs": [],
   "source": [
    "df1['sentiment_label'].value_counts()"
   ]
  },
  {
   "cell_type": "code",
   "execution_count": null,
   "metadata": {},
   "outputs": [],
   "source": [
    "df1['sentiment_score'].plot.hist(xlim=(0, 1), bins=10, title='BERT-base-uncased')\n",
    "plt.savefig('../figure/BERT-base-uncased.png')"
   ]
  },
  {
   "cell_type": "code",
   "execution_count": null,
   "metadata": {},
   "outputs": [],
   "source": [
    "df2['sentiment_label'].value_counts()"
   ]
  },
  {
   "cell_type": "code",
   "execution_count": null,
   "metadata": {},
   "outputs": [],
   "source": [
    "df2['sentiment_score'].plot.hist(xlim=(0, 1), bins=10, title='distilbert-base-uncased')\n",
    "plt.savefig('../figure/distilbert-base-uncased.png')"
   ]
  },
  {
   "cell_type": "code",
   "execution_count": null,
   "metadata": {},
   "outputs": [],
   "source": [
    "df3['sentiment_label'].value_counts()"
   ]
  },
  {
   "cell_type": "code",
   "execution_count": null,
   "metadata": {},
   "outputs": [],
   "source": [
    "df3['sentiment_score'].plot.hist(xlim=(0, 1), bins=10, title='roberta-base')\n",
    "plt.savefig('../figure/roberta-base.png')"
   ]
  },
  {
   "cell_type": "code",
   "execution_count": null,
   "metadata": {},
   "outputs": [],
   "source": [
    "df2['sentiment_score'].mean()"
   ]
  },
  {
   "cell_type": "code",
   "execution_count": null,
   "metadata": {},
   "outputs": [],
   "source": [
    "from sklearn.preprocessing import MinMaxScaler\n",
    "\n",
    "df2['sentiment_score_scaled'] = MinMaxScaler().fit_transform(df2['sentiment_score'].values.reshape(-1, 1))"
   ]
  },
  {
   "cell_type": "code",
   "execution_count": null,
   "metadata": {},
   "outputs": [],
   "source": [
    "df2['sentiment_score_scaled'].plot(kind='hist', bins=10, title='distilbert-base-uncased')\n",
    "plt.savefig('../figure/distilbert-base-uncased_scaled.png')"
   ]
  },
  {
   "cell_type": "code",
   "execution_count": null,
   "metadata": {},
   "outputs": [],
   "source": [
    "noise_temp = df2[['Date', 'sentiment_score_scaled']]"
   ]
  },
  {
   "cell_type": "code",
   "execution_count": null,
   "metadata": {},
   "outputs": [],
   "source": [
    "noise_aggregated = noise_temp.groupby('Date')['sentiment_score_scaled'].apply(list).reset_index()"
   ]
  },
  {
   "cell_type": "code",
   "execution_count": null,
   "metadata": {},
   "outputs": [],
   "source": [
    "max_length = 10\n",
    "expanded_cols = {\n",
    "    f'sentiment_{i+1}': pd.Series([x[i] if i < len(x) else 0 for x in noise_aggregated['sentiment_score_scaled']])\n",
    "    for i in range(max_length)\n",
    "}\n",
    "\n",
    "\n",
    "noise_expanded = pd.DataFrame(expanded_cols)\n",
    "noise_expanded.insert(0, 'Date', noise_aggregated['Date'])\n",
    "\n",
    "noise_expanded"
   ]
  },
  {
   "cell_type": "code",
   "execution_count": null,
   "metadata": {},
   "outputs": [],
   "source": [
    "noise_expanded['Date'] = pd.to_datetime(noise_expanded['Date'], format='%Y%m%d').astype(str)"
   ]
  },
  {
   "cell_type": "code",
   "execution_count": null,
   "metadata": {},
   "outputs": [],
   "source": [
    "temp_stock = pd.read_csv('../data/AAPL.csv')"
   ]
  },
  {
   "cell_type": "code",
   "execution_count": null,
   "metadata": {},
   "outputs": [],
   "source": [
    "noise_date_info = temp_stock[['Date']].copy()"
   ]
  },
  {
   "cell_type": "code",
   "execution_count": null,
   "metadata": {},
   "outputs": [],
   "source": [
    "noise_data = pd.merge(noise_date_info, noise_expanded, left_on='Date', right_on='Date', how='left')"
   ]
  },
  {
   "cell_type": "code",
   "execution_count": null,
   "metadata": {},
   "outputs": [],
   "source": [
    "noise_data.isna().sum()"
   ]
  },
  {
   "cell_type": "code",
   "execution_count": null,
   "metadata": {},
   "outputs": [],
   "source": [
    "noise_data.fillna(0, inplace=True)"
   ]
  },
  {
   "cell_type": "code",
   "execution_count": null,
   "metadata": {},
   "outputs": [],
   "source": [
    "noise_data.to_csv('../data/noise_data.csv', index=False)"
   ]
  },
  {
   "cell_type": "code",
   "execution_count": null,
   "metadata": {},
   "outputs": [],
   "source": [
    "noise_data"
   ]
  },
  {
   "cell_type": "code",
   "execution_count": null,
   "metadata": {},
   "outputs": [],
   "source": []
  }
 ],
 "metadata": {
  "kernelspec": {
   "display_name": "Python 3",
   "language": "python",
   "name": "python3"
  },
  "language_info": {
   "codemirror_mode": {
    "name": "ipython",
    "version": 3
   },
   "file_extension": ".py",
   "mimetype": "text/x-python",
   "name": "python",
   "nbconvert_exporter": "python",
   "pygments_lexer": "ipython3",
   "version": "3.11.5"
  }
 },
 "nbformat": 4,
 "nbformat_minor": 2
}
