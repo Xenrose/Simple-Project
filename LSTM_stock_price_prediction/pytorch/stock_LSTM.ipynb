{
 "cells": [
  {
   "cell_type": "markdown",
   "metadata": {},
   "source": [
    "# Package import"
   ]
  },
  {
   "cell_type": "code",
   "execution_count": 1,
   "metadata": {},
   "outputs": [
    {
     "name": "stdout",
     "output_type": "stream",
     "text": [
      "cuda\n"
     ]
    },
    {
     "data": {
      "text/plain": [
       "'2.1.0+cu118'"
      ]
     },
     "execution_count": 1,
     "metadata": {},
     "output_type": "execute_result"
    }
   ],
   "source": [
    "from models import *\n",
    "from evaluate import *\n",
    "from preprocessing import *"
   ]
  },
  {
   "cell_type": "code",
   "execution_count": 19,
   "metadata": {},
   "outputs": [
    {
     "name": "stdout",
     "output_type": "stream",
     "text": [
      "cuda\n"
     ]
    },
    {
     "data": {
      "text/plain": [
       "'2.1.0+cu118'"
      ]
     },
     "execution_count": 19,
     "metadata": {},
     "output_type": "execute_result"
    }
   ],
   "source": [
    "# pytorch 모델링 패키지\n",
    "\n",
    "import torch\n",
    "import torch.nn as nn\n",
    "device = torch.device(\"cuda\" if torch.cuda.is_available() else \"cpu\")\n",
    "print(device)\n",
    "\n",
    "import torch.nn.functional as F\n",
    "from torch.utils.data import  Dataset, DataLoader\n",
    "import torch.optim as optim\n",
    "\n",
    "torch.__version__"
   ]
  },
  {
   "cell_type": "code",
   "execution_count": 20,
   "metadata": {},
   "outputs": [],
   "source": [
    "# 데이터 전처리 및 시각화 패키지\n",
    "import numpy as np\n",
    "import pandas as pd\n",
    "import matplotlib.pyplot as plt\n",
    "import seaborn as sns\n",
    "\n",
    "\n",
    "from sklearn.model_selection import train_test_split\n",
    "from sklearn.preprocessing import MinMaxScaler, StandardScaler\n",
    "\n",
    "\n",
    "# 평가지표\n",
    "from sklearn.metrics import mean_squared_error, mean_absolute_percentage_error\n",
    "\n",
    "# ETC\n",
    "from tqdm.notebook import tqdm\n",
    "import warnings\n",
    "warnings.filterwarnings(action=\"ignore\")"
   ]
  },
  {
   "cell_type": "markdown",
   "metadata": {},
   "source": [
    "# Model"
   ]
  },
  {
   "cell_type": "code",
   "execution_count": 21,
   "metadata": {},
   "outputs": [],
   "source": [
    "class LSTM_StockPrice(nn.Module):\n",
    "    def __init__(self, config):\n",
    "        super().__init__()\n",
    "        # common\n",
    "        self.dropout = nn.Dropout(config.dropout_rate)\n",
    "\n",
    "        self.dense = nn.Linear(in_features=config.hidden_size*2, \n",
    "                                out_features=1)\n",
    "\n",
    "        # Stock\n",
    "        self.stock_lstm1 = nn.LSTM(input_size=config.stock_input, \n",
    "                             hidden_size=config.hidden_size,\n",
    "                             batch_first=True)\n",
    "\n",
    "        self.stock_lstm2 = nn.LSTM(input_size=config.hidden_size, \n",
    "                             hidden_size=config.hidden_size,\n",
    "                             batch_first=True)\n",
    "\n",
    "\n",
    "        \n",
    "        # Index\n",
    "        self.index_lstm1 = nn.LSTM(input_size=config.index_input, \n",
    "                                   hidden_size=config.hidden_size,\n",
    "                                   batch_first=True)\n",
    "\n",
    "        self.index_lstm2 = nn.LSTM(input_size=config.hidden_size, \n",
    "                                   hidden_size=config.hidden_size,\n",
    "                                   batch_first=True)\n",
    "\n",
    "\n",
    "\n",
    "    def forward(self, x_stock, x_index):\n",
    "        # Stock\n",
    "        stock_lstm_output, _ = self.stock_lstm1(x_stock)\n",
    "        stock_drop = self.dropout(stock_lstm_output)\n",
    "        stock_lstm_output, _ = self.stock_lstm2(stock_drop)\n",
    "        stock_out = self.dropout(stock_lstm_output)\n",
    "\n",
    "\n",
    "        # Index \n",
    "        index_lstm_output, _ = self.stock_lstm1(x_index)\n",
    "        index_drop = self.dropout(index_lstm_output)\n",
    "        index_lstm_output, _ = self.stock_lstm2(index_drop)\n",
    "        index_out = self.dropout(index_lstm_output)\n",
    "\n",
    "\n",
    "        # Concat\n",
    "        comb = torch.cat((stock_out, index_out), dim=1)\n",
    "        dense_output = self.dense(comb[:, -1, :])\n",
    "        sigmoid_output = torch.sigmoid(dense_output)\n",
    "        # predictions = self.linear(lstm_out[-1, :])  # 마지막 시퀀스 출력만 사용\n",
    "        \n",
    "        return sigmoid_output"
   ]
  },
  {
   "cell_type": "markdown",
   "metadata": {},
   "source": [
    "# Dataset"
   ]
  },
  {
   "cell_type": "code",
   "execution_count": 44,
   "metadata": {},
   "outputs": [],
   "source": [
    "class StockDataset(Dataset):\n",
    "    def __init__(self, data, device, window_size=7, future_step=1):\n",
    "        super().__init__()\n",
    "        self.window_size = window_size\n",
    "        self.future_step = future_step\n",
    "        self.scaler = StandardScaler()\n",
    "\n",
    "        X = self.scaler.fit_transform(data.drop(columns=['Date', 'Close']))\n",
    "        y = data['Close'].to_numpy()[window_size+future_step-1:]\n",
    "        \n",
    "        X_sequencing = []\n",
    "        for seq in range(len(X)-window_size):\n",
    "            X_sequencing.append(X[seq:seq+window_size])\n",
    "\n",
    "        self.X = torch.Tensor(X_sequencing).to(device)\n",
    "        self.y = torch.Tensor(y).to(device)\n",
    "\n",
    "\n",
    "    def get_scaler(self):\n",
    "        return self.scaler\n",
    "    \n",
    "    def get_window_size(self):\n",
    "        return self.window_size\n",
    "    \n",
    "    def get_future_step(self):\n",
    "        return self.future_step\n",
    "    \n",
    "    def __len__(self):\n",
    "        return len(self.X)\n",
    "    \n",
    "    def __getitem__(self, idx):\n",
    "        return self.X[idx], self.y[idx]"
   ]
  },
  {
   "cell_type": "code",
   "execution_count": 45,
   "metadata": {},
   "outputs": [],
   "source": [
    "class IndexDataset(Dataset):\n",
    "    def __init__(self, data, stock_target, device, window_size=7):\n",
    "        super().__init__()\n",
    "        self.scaler = StandardScaler()\n",
    "        self.window_size = window_size\n",
    "\n",
    "        X = self.scaler.fit_transform(data.drop(columns=['Date']))\n",
    "        \n",
    "        X_sequencing = []\n",
    "        for seq in range(len(X)-window_size):\n",
    "            X_sequencing.append(X[seq:seq+window_size])\n",
    "\n",
    "        self.X = torch.Tensor(X_sequencing).view(X.len, 1,   ).to(device)\n",
    "        self.y = stock_target.to(device)\n",
    "\n",
    "\n",
    "    def get_scaler(self):\n",
    "        return self.scaler\n",
    "    \n",
    "    def get_window_size(self):\n",
    "        return self.window_size\n",
    "    \n",
    "    def __len__(self):\n",
    "        return len(self.X)\n",
    "    \n",
    "    def __getitem__(self, idx):\n",
    "        return self.X[idx], self.y[idx]"
   ]
  },
  {
   "cell_type": "code",
   "execution_count": 23,
   "metadata": {},
   "outputs": [],
   "source": [
    "# stock\n",
    "AAPL = pd.read_csv('../data/AAPL.csv')\n",
    "\n",
    "# index\n",
    "NASDAQ = pd.read_csv('../data/NASDAQ.csv')\n",
    "SP500 = pd.read_csv('../data/SP500.csv')\n",
    "DOLLAR = pd.read_csv('../data/DOLLAR.csv')"
   ]
  },
  {
   "cell_type": "code",
   "execution_count": 41,
   "metadata": {},
   "outputs": [],
   "source": [
    "window_size = 7\n",
    "future_step = 1\n",
    "\n",
    "# stock\n",
    "stock_dataset = StockDataset(AAPL.drop(columns=['Close']), device=device, window_size=window_size, future_step=future_step)\n",
    "\n",
    "\n",
    "# index\n",
    "\n",
    "\n"
   ]
  },
  {
   "cell_type": "markdown",
   "metadata": {},
   "source": [
    "# DataLoader"
   ]
  },
  {
   "cell_type": "code",
   "execution_count": null,
   "metadata": {},
   "outputs": [],
   "source": [
    "batch_size = 100"
   ]
  },
  {
   "cell_type": "markdown",
   "metadata": {},
   "source": [
    "# Train"
   ]
  },
  {
   "cell_type": "markdown",
   "metadata": {},
   "source": [
    "# Predcit"
   ]
  },
  {
   "cell_type": "code",
   "execution_count": 197,
   "metadata": {},
   "outputs": [],
   "source": [
    "class Save_checkpoint:\n",
    "    def __init__(self, score = []):\n",
    "        self.score = score\n",
    "    \n",
    "    def check_score(self, new_score):\n",
    "        self.score.append(new_score)\n",
    "        if len(self.score) == 1 or len(self.score) > 1 and max(self.score) == self.score[-1]:\n",
    "            return True\n",
    "        else:\n",
    "            return False\n",
    "            \n",
    "    def save_checkpoint(self, model, verbose = True):\n",
    "        if verbose:\n",
    "            print(f'Best Model Saved with {max(self.score)}')\n",
    "            \n",
    "        torch.save(model.state_dict(), 'best_model.pt')"
   ]
  },
  {
   "cell_type": "code",
   "execution_count": null,
   "metadata": {},
   "outputs": [],
   "source": []
  }
 ],
 "metadata": {
  "kernelspec": {
   "display_name": "Python 3",
   "language": "python",
   "name": "python3"
  },
  "language_info": {
   "codemirror_mode": {
    "name": "ipython",
    "version": 3
   },
   "file_extension": ".py",
   "mimetype": "text/x-python",
   "name": "python",
   "nbconvert_exporter": "python",
   "pygments_lexer": "ipython3",
   "version": "3.11.5"
  }
 },
 "nbformat": 4,
 "nbformat_minor": 2
}
