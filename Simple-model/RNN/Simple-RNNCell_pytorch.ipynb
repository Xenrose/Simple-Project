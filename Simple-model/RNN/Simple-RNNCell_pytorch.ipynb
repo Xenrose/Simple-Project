{
 "cells": [
  {
   "cell_type": "markdown",
   "metadata": {},
   "source": [
    "# Import"
   ]
  },
  {
   "cell_type": "code",
   "execution_count": 1,
   "metadata": {},
   "outputs": [
    {
     "name": "stdout",
     "output_type": "stream",
     "text": [
      "cuda\n"
     ]
    }
   ],
   "source": [
    "# torch package\n",
    "import torch\n",
    "import torch.nn as nn\n",
    "import torch.optim as optim\n",
    "import torch.nn.functional as F\n",
    "\n",
    "\n",
    "# dataset packagea\n",
    "from torch.utils.data import Dataset, DataLoader\n",
    "from tensorflow.keras.datasets import imdb\n",
    "from sklearn.model_selection import train_test_split\n",
    "\n",
    "# metrcis\n",
    "from sklearn.metrics import accuracy_score, classification_report\n",
    "\n",
    "# ETC\n",
    "from tqdm import tqdm\n",
    "import numpy as np\n",
    "import matplotlib.pyplot as plt\n",
    "\n",
    "\n",
    "device = torch.device(\"cuda\" if torch.cuda.is_available() else \"cpu\")\n",
    "print(device)"
   ]
  },
  {
   "cell_type": "markdown",
   "metadata": {},
   "source": [
    "# Simple-RNN Model"
   ]
  },
  {
   "cell_type": "code",
   "execution_count": 2,
   "metadata": {},
   "outputs": [],
   "source": [
    "class SimpleRNN_cell(nn.Module):\n",
    "    def __init__(self, input_size, hidden_size, device):\n",
    "        super().__init__()\n",
    "        # input_size: X features(X's columns) \n",
    "        # if X.shape (batch_size, sequence_length, feature) then X.shape[2](feature)\n",
    "\n",
    "        self.input_size = input_size\n",
    "        self.hidden_size = hidden_size\n",
    "        self.device = device\n",
    "\n",
    "\n",
    "        # 파라미터 생성 및 초기화\n",
    "        # forward 내 tanh 인자값에 대한 연산으로 torch.matmul을 사용할 경우 아래 주석처리된 W_xh를 사용\n",
    "        # self.W_xh = nn.Parameter(torch.empty(self.input_size, self.hidden_size, device=self.device))\n",
    "        self.W_xh = nn.Parameter(torch.empty(self.hidden_size, self.input_size, device=self.device))\n",
    "        self.W_hh = nn.Parameter(torch.empty(self.hidden_size, self.hidden_size, device=self.device))\n",
    "        self.b_xh = nn.Parameter(torch.empty(self.hidden_size, device=self.device))\n",
    "        self.b_hh = nn.Parameter(torch.empty(self.hidden_size, device=self.device))\n",
    "\n",
    "\n",
    "        nn.init.xavier_uniform_(self.W_xh, gain=hidden_size**-1)\n",
    "        nn.init.xavier_uniform_(self.W_hh, gain=hidden_size**-1)\n",
    "        nn.init.constant_(self.b_xh, 1.)\n",
    "        nn.init.constant_(self.b_hh, 1.)\n",
    "\n",
    "\n",
    "    # tanh함수를 구현하였으나 torch cuda/cpu 연산처리 관련해서 복잡하므로 그냥 torch.tanh 사용\n",
    "    def tanh(self, x):\n",
    "        return (torch.exp(x) - torch.exp(-x))/(torch.exp(x) + torch.exp(-x))\n",
    "    \n",
    "\n",
    "    def forward(self, x, hidden=None): # x.shape: (batch_size, sequence_length, embeding_size)\n",
    "        # init hidden state\n",
    "        if hidden is None:\n",
    "            hidden = torch.zeros(x.shape[0], self.hidden_size, device=self.device)\n",
    "\n",
    "\n",
    "        # output.shape: (batch_size, sequence_length, hidden_size)\n",
    "        outputs = []\n",
    "        for seq in range(x.shape[1]):\n",
    "            input_x = x[:,seq,:]\n",
    "            hidden = torch.tanh(F.linear(input_x, self.W_xh, self.b_xh)  + F.linear(hidden, self.W_hh, self.b_hh))\n",
    "            outputs.append(hidden.unsqueeze(1))\n",
    "\n",
    "        outputs = torch.cat(outputs, dim=1)\n",
    "        return outputs"
   ]
  },
  {
   "cell_type": "markdown",
   "metadata": {},
   "source": [
    "$h_t = tanh(W_{xh} \\cdot x_t + b_{xh} + W_{hh} \\cdot h_{t-1} + b_{hh})$  "
   ]
  },
  {
   "cell_type": "code",
   "execution_count": 3,
   "metadata": {},
   "outputs": [],
   "source": [
    "class SimpleRNN(nn.Module):\n",
    "    def __init__(self, config):\n",
    "        super().__init__()\n",
    "        self.config = config\n",
    "\n",
    "\n",
    "        self.embedding = nn.Embedding(num_embeddings=config.vocab_size,\n",
    "                                     embedding_dim=config.em_output)\n",
    "        \n",
    "        # batch_size, sequence_size, embeding_size\n",
    "        self.rnn_1 = SimpleRNN_cell(input_size=config.em_output,\n",
    "                                    hidden_size=config.rnn_node1,\n",
    "                                    device=config.device)\n",
    "        \n",
    "        self.drop_out = nn.Dropout(p=config.drop_out_rate)\n",
    "        \n",
    "        self.rnn_2 = SimpleRNN_cell(input_size=config.rnn_node1,\n",
    "                                    hidden_size=config.rnn_node2,\n",
    "                                    device=config.device)\n",
    "        \n",
    "        self.dense = nn.Linear(in_features=config.rnn_node2, out_features=1)\n",
    "\n",
    "\n",
    "    def forward(self, x):\n",
    "        ebd = self.embedding(x)\n",
    "        rnn1_output = self.rnn_1(ebd)\n",
    "        drop_layer = self.drop_out(rnn1_output)\n",
    "        rnn2_output = self.rnn_2(drop_layer)\n",
    "        drop_layer = self.drop_out(rnn2_output)\n",
    "        dense_output = self.dense(drop_layer[:, -1, :])\n",
    "        sigmoid_output = torch.sigmoid(dense_output)\n",
    "        # final_output = (sigmoid_output > 0.5).float().view(-1)\n",
    "        \n",
    "        return sigmoid_output"
   ]
  },
  {
   "cell_type": "markdown",
   "metadata": {},
   "source": [
    "# Train"
   ]
  },
  {
   "cell_type": "code",
   "execution_count": 4,
   "metadata": {},
   "outputs": [],
   "source": [
    "def train(model, config, train, valid, optimizer=False, loss=False):\n",
    "    train_loss_history = []\n",
    "    valid_loss_history = []\n",
    "    \n",
    "    optimizer = optimizer if optimizer else optim.Adam(model.parameters(), lr=config.learning_rate)\n",
    "    loss_function = loss if loss else nn.BCELoss()\n",
    "\n",
    "\n",
    "    for i in range(config.epochs):\n",
    "        train_loss_ = 0\n",
    "        model.train()\n",
    "        with torch.enable_grad():\n",
    "            for feature, label in train:\n",
    "                optimizer.zero_grad()\n",
    "                outputs = model(feature).view(-1)\n",
    "                loss = loss_function(outputs, label)\n",
    "                # loss.requires_grad_(True)\n",
    "                loss.backward()\n",
    "                optimizer.step()\n",
    "\n",
    "                train_loss_ += loss.item()\n",
    "\n",
    "        train_loss_ /= config.batch_size\n",
    "        train_loss_history.append(train_loss_)\n",
    "\n",
    "\n",
    "        valid_loss_ = 0\n",
    "        model.eval()\n",
    "        with torch.no_grad():\n",
    "            for feature, label in valid:\n",
    "                outputs = model(feature)\n",
    "                loss = loss_function(outputs.reshape(-1), label)\n",
    "                \n",
    "                valid_loss_ += loss.item()\n",
    "\n",
    "        valid_loss_ /= config.batch_size\n",
    "        valid_loss_history.append(valid_loss_)\n",
    "\n",
    "        if (i+1)%int((config.epochs)*0.1)==0:\n",
    "            print(f\"epoch : {i+1} Loss(train) : {train_loss_history[-1]:.3f}  Loss(valid) : {valid_loss_history[-1]:.3f}\")\n",
    "\n",
    "\n",
    "    \n",
    "    plt.plot(train_loss_history, label='Training loss')\n",
    "    plt.plot(valid_loss_history, label='Validation loss')\n",
    "    plt.legend()\n",
    "    plt.show()\n",
    "    print(\"=\"*40)\n",
    "    print(\"Training loss: \", train_loss_history[-1])\n",
    "    print(\"Validation loss: \", valid_loss_history[-1])\n",
    "    print(\"=\"*40)"
   ]
  },
  {
   "cell_type": "markdown",
   "metadata": {},
   "source": [
    "# Predict"
   ]
  },
  {
   "cell_type": "code",
   "execution_count": 5,
   "metadata": {},
   "outputs": [],
   "source": [
    "def predict_evaluate(model, test):\n",
    "    model.eval()\n",
    "    output_list = []\n",
    "    acc = []\n",
    "\n",
    "    y_pred = []\n",
    "    y_test = []\n",
    "    with torch.no_grad():\n",
    "        for feature, label in test:\n",
    "            outputs = model(feature)\n",
    "            output_list.append(outputs)\n",
    "            outputs = outputs.cpu()\n",
    "            outputs = (outputs > 0.5).float().view(-1)\n",
    "\n",
    "            label = label.cpu()\n",
    "            acc.append(accuracy_score(label, outputs))\n",
    "            y_pred.append(outputs)\n",
    "            y_test.append(label)\n",
    "\n",
    "\n",
    "    print(f\"Accuracy: {(sum(acc)/len(acc)):.3f}\")\n",
    "\n",
    "    return np.array(y_test).reshape(-1), np.array(y_pred).reshape(-1)"
   ]
  },
  {
   "cell_type": "markdown",
   "metadata": {},
   "source": [
    "# Hyperparameter config"
   ]
  },
  {
   "cell_type": "code",
   "execution_count": 6,
   "metadata": {},
   "outputs": [],
   "source": [
    "class config():\n",
    "    def __init__(self, max_size, vocab_size, em_output, rnn_node1, rnn_node2, device, drop_out_rate=0.5, learning_rate=0.001, patience_ratio=0.2, epochs=100, \n",
    "                 validation_split=0.2, batch_size = 128):\n",
    "        \n",
    "        self.vocab_size = vocab_size\n",
    "        self.em_output = em_output\n",
    "        self.max_size = max_size\n",
    "\n",
    "        self.rnn_node1 = rnn_node1\n",
    "        self.rnn_node2 = rnn_node2\n",
    "        self.drop_out_rate =drop_out_rate\n",
    "        self.learning_rate = learning_rate\n",
    "        self.patience = epochs * patience_ratio\n",
    "        self.batch_size = batch_size\n",
    "        self.epochs = epochs\n",
    "        self.validation_split = validation_split\n",
    "\n",
    "        self.device = device"
   ]
  },
  {
   "cell_type": "markdown",
   "metadata": {},
   "source": [
    "# Dataset"
   ]
  },
  {
   "cell_type": "code",
   "execution_count": 7,
   "metadata": {},
   "outputs": [],
   "source": [
    "class IMDBDataset(Dataset):\n",
    "    def __init__(self, X, y, max_size, device):\n",
    "        X_np = np.array([np.array(xi) for xi in X],dtype=object)\n",
    "        X_pad = np.zeros((len(X_np), max_size))\n",
    "        for i in range(len(X)):\n",
    "            pad_length = min(len(X_np[i]), max_size)\n",
    "            X_pad[i, :pad_length] = X_np[i][:pad_length]\n",
    "\n",
    "        self.X = torch.Tensor(X_pad).long().to(device)\n",
    "        self.y = torch.Tensor(y).to(device)\n",
    "\n",
    "\n",
    "    def __len__(self):\n",
    "        return len(self.X)\n",
    "\n",
    "\n",
    "    def __getitem__(self, idx):\n",
    "        return self.X[idx], self.y[idx]"
   ]
  },
  {
   "cell_type": "code",
   "execution_count": 8,
   "metadata": {},
   "outputs": [],
   "source": [
    "# rnn의 장기의존성 이슈 때문에 max_len이 길 경우 학습이 제대로 진행되지 않음\n",
    "max_len = 100 # Cell 구현 중 for문을 사용하여 max_len이 길면 학습 시간이 길어짐\n",
    "vocab_size = 10000\n",
    "batch_size = 200\n",
    "\n",
    "(X_trian, y_train), (X_test, y_test) = imdb.load_data(num_words=vocab_size)\n",
    "X_train, X_valid, y_train, y_valid = train_test_split(X_trian, y_train, train_size=0.8, stratify=y_train)\n",
    "\n",
    "\n",
    "train_dataset = IMDBDataset(X_train, y_train, max_len, device=device)\n",
    "valid_dataset = IMDBDataset(X_valid, y_valid, max_len, device=device)\n",
    "test_dataset = IMDBDataset(X_test, y_test, max_len, device=device)\n",
    "\n",
    "train_loader = DataLoader(train_dataset, batch_size=batch_size, shuffle=True)\n",
    "valid_loader = DataLoader(valid_dataset, batch_size=batch_size, shuffle=True)\n",
    "test_loader = DataLoader(test_dataset, batch_size=batch_size, shuffle=True)\n"
   ]
  },
  {
   "cell_type": "code",
   "execution_count": 9,
   "metadata": {},
   "outputs": [
    {
     "name": "stdout",
     "output_type": "stream",
     "text": [
      "train shape: torch.Size([20000, 100])\n",
      "valid shape: torch.Size([5000, 100])\n",
      "test shape : torch.Size([25000, 100])\n"
     ]
    }
   ],
   "source": [
    "print(f\"train shape: {train_dataset.X.shape}\")\n",
    "print(f\"valid shape: {valid_dataset.X.shape}\")\n",
    "print(f\"test shape : {test_dataset.X.shape}\")"
   ]
  },
  {
   "cell_type": "markdown",
   "metadata": {},
   "source": [
    "# Model"
   ]
  },
  {
   "cell_type": "code",
   "execution_count": 10,
   "metadata": {},
   "outputs": [],
   "source": [
    "rnn_config = config(vocab_size=vocab_size,\n",
    "                    max_size=max_len,\n",
    "                    em_output=32,\n",
    "\n",
    "                    rnn_node1=64,\n",
    "                    rnn_node2=32,\n",
    "\n",
    "                    drop_out_rate=0.1,\n",
    "                    learning_rate=0.001,\n",
    "                    # patience_ratio=0.3,\n",
    "                    epochs=40,\n",
    "                    batch_size=batch_size,\n",
    "                    device=device\n",
    "                    )"
   ]
  },
  {
   "cell_type": "code",
   "execution_count": 11,
   "metadata": {},
   "outputs": [],
   "source": [
    "rnn = SimpleRNN(rnn_config).to(device)"
   ]
  },
  {
   "cell_type": "code",
   "execution_count": 12,
   "metadata": {},
   "outputs": [
    {
     "name": "stdout",
     "output_type": "stream",
     "text": [
      "rnn_1.W_xh Parameter containing:\n",
      "tensor([[ 2.0661e-01,  4.2541e-02, -1.9689e-01,  ...,  1.9551e-01,\n",
      "          1.9043e-01, -1.7479e-01],\n",
      "        [ 4.7059e-02,  1.4661e-01,  1.4932e-01,  ..., -4.6960e-02,\n",
      "         -1.5197e-01, -1.5960e-01],\n",
      "        [-1.1739e-01, -2.4979e-01,  4.1778e-02,  ...,  7.1994e-02,\n",
      "         -1.2386e-01, -1.7120e-01],\n",
      "        ...,\n",
      "        [ 1.3051e-01,  2.4229e-01,  1.9078e-01,  ...,  2.2985e-02,\n",
      "          2.3904e-01, -1.2043e-01],\n",
      "        [ 2.0927e-01,  1.6376e-04, -1.7610e-01,  ..., -3.6330e-02,\n",
      "          3.5145e-02,  1.3858e-01],\n",
      "        [ 1.0026e-01,  4.7363e-02,  2.2231e-01,  ...,  2.4636e-01,\n",
      "          2.2933e-01, -9.3160e-02]], device='cuda:0', requires_grad=True)\n",
      "rnn_1.W_hh Parameter containing:\n",
      "tensor([[-0.0266,  0.0574, -0.0656,  ...,  0.1123, -0.1983,  0.0836],\n",
      "        [-0.0938,  0.1595,  0.1424,  ...,  0.0730, -0.0660,  0.0953],\n",
      "        [ 0.0728, -0.2124,  0.0395,  ...,  0.1780, -0.2013,  0.1653],\n",
      "        ...,\n",
      "        [-0.1039,  0.2109, -0.1948,  ...,  0.1509, -0.1820,  0.0254],\n",
      "        [ 0.1461, -0.0184,  0.0201,  ...,  0.0636,  0.1501,  0.0147],\n",
      "        [ 0.1024,  0.1953,  0.1937,  ..., -0.0738, -0.2144, -0.0458]],\n",
      "       device='cuda:0', requires_grad=True)\n",
      "rnn_1.b_xh Parameter containing:\n",
      "tensor([1., 1., 1., 1., 1., 1., 1., 1., 1., 1., 1., 1., 1., 1., 1., 1., 1., 1.,\n",
      "        1., 1., 1., 1., 1., 1., 1., 1., 1., 1., 1., 1., 1., 1., 1., 1., 1., 1.,\n",
      "        1., 1., 1., 1., 1., 1., 1., 1., 1., 1., 1., 1., 1., 1., 1., 1., 1., 1.,\n",
      "        1., 1., 1., 1., 1., 1., 1., 1., 1., 1.], device='cuda:0',\n",
      "       requires_grad=True)\n",
      "rnn_1.b_hh Parameter containing:\n",
      "tensor([1., 1., 1., 1., 1., 1., 1., 1., 1., 1., 1., 1., 1., 1., 1., 1., 1., 1.,\n",
      "        1., 1., 1., 1., 1., 1., 1., 1., 1., 1., 1., 1., 1., 1., 1., 1., 1., 1.,\n",
      "        1., 1., 1., 1., 1., 1., 1., 1., 1., 1., 1., 1., 1., 1., 1., 1., 1., 1.,\n",
      "        1., 1., 1., 1., 1., 1., 1., 1., 1., 1.], device='cuda:0',\n",
      "       requires_grad=True)\n",
      "rnn_2.W_xh Parameter containing:\n",
      "tensor([[-0.0888,  0.1837,  0.1055,  ..., -0.1153, -0.1646,  0.1016],\n",
      "        [ 0.0035, -0.1982, -0.0698,  ..., -0.0723, -0.1720,  0.1754],\n",
      "        [ 0.0316, -0.0697,  0.2031,  ..., -0.1204,  0.1910,  0.0712],\n",
      "        ...,\n",
      "        [-0.1740, -0.1524,  0.1092,  ...,  0.0335,  0.1917,  0.0262],\n",
      "        [-0.2103,  0.0443,  0.1762,  ..., -0.1758,  0.1295, -0.0466],\n",
      "        [-0.1170,  0.1027, -0.2201,  ...,  0.2005, -0.0869, -0.2299]],\n",
      "       device='cuda:0', requires_grad=True)\n",
      "rnn_2.W_hh Parameter containing:\n",
      "tensor([[ 0.2768, -0.0079, -0.1149,  ..., -0.2727, -0.1042, -0.0818],\n",
      "        [ 0.2781, -0.2511,  0.1527,  ...,  0.2789,  0.1498, -0.1541],\n",
      "        [ 0.1221,  0.2940, -0.2876,  ...,  0.1625, -0.1309,  0.2844],\n",
      "        ...,\n",
      "        [-0.2029, -0.1298, -0.2911,  ..., -0.0205, -0.0379, -0.2372],\n",
      "        [-0.0464,  0.1033,  0.0742,  ..., -0.1640, -0.0342,  0.0157],\n",
      "        [ 0.0574,  0.2358, -0.1561,  ...,  0.0192, -0.0154, -0.2174]],\n",
      "       device='cuda:0', requires_grad=True)\n",
      "rnn_2.b_xh Parameter containing:\n",
      "tensor([1., 1., 1., 1., 1., 1., 1., 1., 1., 1., 1., 1., 1., 1., 1., 1., 1., 1.,\n",
      "        1., 1., 1., 1., 1., 1., 1., 1., 1., 1., 1., 1., 1., 1.],\n",
      "       device='cuda:0', requires_grad=True)\n",
      "rnn_2.b_hh Parameter containing:\n",
      "tensor([1., 1., 1., 1., 1., 1., 1., 1., 1., 1., 1., 1., 1., 1., 1., 1., 1., 1.,\n",
      "        1., 1., 1., 1., 1., 1., 1., 1., 1., 1., 1., 1., 1., 1.],\n",
      "       device='cuda:0', requires_grad=True)\n",
      "dense.weight Parameter containing:\n",
      "tensor([[ 0.1699,  0.0162,  0.0392, -0.0107,  0.1072, -0.1561,  0.1535, -0.1264,\n",
      "          0.1259,  0.0184,  0.1514, -0.1036, -0.0082,  0.1456,  0.1032, -0.1186,\n",
      "         -0.0611, -0.1680,  0.0373,  0.0332, -0.1604, -0.0581, -0.0490, -0.0090,\n",
      "          0.0763, -0.0816,  0.0716, -0.0678, -0.0921, -0.0299,  0.1493,  0.1686]],\n",
      "       device='cuda:0', requires_grad=True)\n",
      "dense.bias Parameter containing:\n",
      "tensor([0.0295], device='cuda:0', requires_grad=True)\n"
     ]
    }
   ],
   "source": [
    "for name, param in rnn.named_parameters():\n",
    "    if 'embedding' in name: continue\n",
    "    print(name, param)"
   ]
  },
  {
   "cell_type": "code",
   "execution_count": 13,
   "metadata": {},
   "outputs": [
    {
     "name": "stdout",
     "output_type": "stream",
     "text": [
      "epoch : 4 Loss(train) : 0.345  Loss(valid) : 0.087\n",
      "epoch : 8 Loss(train) : 0.327  Loss(valid) : 0.087\n",
      "epoch : 12 Loss(train) : 0.282  Loss(valid) : 0.085\n",
      "epoch : 16 Loss(train) : 0.239  Loss(valid) : 0.089\n",
      "epoch : 20 Loss(train) : 0.217  Loss(valid) : 0.091\n",
      "epoch : 24 Loss(train) : 0.329  Loss(valid) : 0.091\n",
      "epoch : 28 Loss(train) : 0.279  Loss(valid) : 0.094\n",
      "epoch : 32 Loss(train) : 0.220  Loss(valid) : 0.099\n",
      "epoch : 36 Loss(train) : 0.184  Loss(valid) : 0.107\n",
      "epoch : 40 Loss(train) : 0.164  Loss(valid) : 0.115\n"
     ]
    },
    {
     "data": {
      "image/png": "[encoded data removed]",
      "text/plain": [
       "<Figure size 640x480 with 1 Axes>"
      ]
     },
     "metadata": {},
     "output_type": "display_data"
    },
    {
     "name": "stdout",
     "output_type": "stream",
     "text": [
      "========================================\n",
      "Training loss:  0.16438217811286449\n",
      "Validation loss:  0.11533019602298737\n",
      "========================================\n"
     ]
    }
   ],
   "source": [
    "train(rnn, rnn_config, train_loader, valid_loader)"
   ]
  },
  {
   "cell_type": "code",
   "execution_count": 14,
   "metadata": {},
   "outputs": [
    {
     "name": "stdout",
     "output_type": "stream",
     "text": [
      "rnn_1.W_xh Parameter containing:\n",
      "tensor([[ 0.3881,  0.0920, -0.1890,  ...,  0.3052,  0.2075, -0.2805],\n",
      "        [ 0.0208,  0.4095,  0.1821,  ..., -0.0280, -0.2412, -0.1043],\n",
      "        [-0.2092, -0.1307,  0.3879,  ...,  0.2664, -0.0233, -0.1475],\n",
      "        ...,\n",
      "        [ 0.1089,  0.1633,  0.1340,  ..., -0.1105,  0.5127, -0.0649],\n",
      "        [ 0.4813,  0.0322, -0.2543,  ..., -0.1976,  0.0997,  0.3527],\n",
      "        [ 0.0310, -0.1779,  0.0405,  ...,  0.2602,  0.2146, -0.2369]],\n",
      "       device='cuda:0', requires_grad=True)\n",
      "rnn_1.W_hh Parameter containing:\n",
      "tensor([[-0.0262,  0.0972, -0.0909,  ...,  0.0804, -0.2412,  0.0613],\n",
      "        [-0.1402, -0.0480,  0.2078,  ..., -0.0692, -0.3154, -0.0016],\n",
      "        [ 0.1513, -0.3412, -0.1608,  ...,  0.1038, -0.1557,  0.0799],\n",
      "        ...,\n",
      "        [-0.2847,  0.1715, -0.2143,  ...,  0.1361, -0.1472, -0.0027],\n",
      "        [ 0.0954, -0.2227, -0.0040,  ...,  0.0321,  0.1179, -0.0107],\n",
      "        [ 0.0518,  0.1054,  0.3874,  ..., -0.0951, -0.2391, -0.0755]],\n",
      "       device='cuda:0', requires_grad=True)\n",
      "rnn_1.b_xh Parameter containing:\n",
      "tensor([0.9823, 0.9364, 0.9618, 0.9881, 0.9962, 0.9620, 0.9613, 0.9580, 0.9458,\n",
      "        0.9459, 0.9824, 0.9699, 0.9599, 0.9668, 0.9530, 0.9878, 0.9478, 0.9389,\n",
      "        0.9917, 0.9044, 0.9713, 0.9504, 0.9169, 0.9745, 0.9459, 0.9754, 0.9498,\n",
      "        1.0087, 0.9631, 0.9444, 0.9383, 0.8728, 0.8882, 0.9906, 0.9420, 0.9806,\n",
      "        0.9340, 0.9871, 0.9644, 0.9438, 0.9174, 0.9765, 0.9829, 0.9245, 0.9559,\n",
      "        0.9552, 0.9597, 0.9842, 0.9663, 0.9550, 0.9395, 0.9666, 0.9367, 0.9654,\n",
      "        0.9899, 0.9617, 0.9771, 0.9480, 0.9634, 0.9460, 0.9715, 0.9853, 0.9642,\n",
      "        0.9828], device='cuda:0', requires_grad=True)\n",
      "rnn_1.b_hh Parameter containing:\n",
      "tensor([0.9823, 0.9364, 0.9618, 0.9881, 0.9962, 0.9620, 0.9613, 0.9580, 0.9458,\n",
      "        0.9459, 0.9824, 0.9699, 0.9599, 0.9668, 0.9530, 0.9878, 0.9478, 0.9389,\n",
      "        0.9917, 0.9044, 0.9713, 0.9504, 0.9169, 0.9745, 0.9459, 0.9754, 0.9498,\n",
      "        1.0087, 0.9631, 0.9444, 0.9383, 0.8728, 0.8882, 0.9906, 0.9420, 0.9806,\n",
      "        0.9340, 0.9871, 0.9644, 0.9438, 0.9174, 0.9765, 0.9829, 0.9245, 0.9559,\n",
      "        0.9552, 0.9597, 0.9842, 0.9663, 0.9550, 0.9395, 0.9666, 0.9367, 0.9654,\n",
      "        0.9899, 0.9617, 0.9771, 0.9480, 0.9634, 0.9460, 0.9715, 0.9853, 0.9642,\n",
      "        0.9828], device='cuda:0', requires_grad=True)\n",
      "rnn_2.W_xh Parameter containing:\n",
      "tensor([[-0.0151,  0.2002,  0.1114,  ..., -0.1238, -0.1109,  0.1020],\n",
      "        [-0.0308, -0.1883, -0.0543,  ..., -0.0276, -0.2636, -0.0059],\n",
      "        [-0.0673,  0.0822,  0.1012,  ..., -0.3046,  0.1354, -0.0212],\n",
      "        ...,\n",
      "        [-0.3720, -0.3288,  0.0100,  ..., -0.0512,  0.1126, -0.0711],\n",
      "        [-0.1054,  0.2737,  0.2003,  ..., -0.2530,  0.0488, -0.0778],\n",
      "        [-0.0364,  0.4347, -0.2374,  ...,  0.1256, -0.0645, -0.1253]],\n",
      "       device='cuda:0', requires_grad=True)\n",
      "rnn_2.W_hh Parameter containing:\n",
      "tensor([[ 0.5663,  0.0290, -0.0989,  ..., -0.2788, -0.1095, -0.3002],\n",
      "        [ 0.3338, -0.4664,  0.2097,  ...,  0.1943,  0.1944, -0.1555],\n",
      "        [ 0.0239,  0.2945,  0.0990,  ..., -0.0365,  0.4103,  0.4927],\n",
      "        ...,\n",
      "        [-0.3164, -0.2691, -0.5742,  ...,  0.3837, -0.4703, -0.4508],\n",
      "        [ 0.0146,  0.1429,  0.1339,  ..., -0.3663,  0.1008, -0.2568],\n",
      "        [ 0.0549,  0.3619, -0.2496,  ...,  0.0997,  0.0028, -0.3670]],\n",
      "       device='cuda:0', requires_grad=True)\n",
      "rnn_2.b_xh Parameter containing:\n",
      "tensor([1.0098, 0.9460, 0.9176, 1.0123, 0.9383, 0.9479, 0.8912, 0.9911, 0.8993,\n",
      "        0.9808, 0.9113, 1.0217, 1.0067, 0.8937, 0.9815, 0.9573, 0.9591, 0.9613,\n",
      "        0.9672, 0.9539, 0.9488, 0.9813, 0.9601, 0.9922, 0.9755, 0.9707, 0.8749,\n",
      "        0.9758, 1.0107, 0.9141, 0.9408, 0.9454], device='cuda:0',\n",
      "       requires_grad=True)\n",
      "rnn_2.b_hh Parameter containing:\n",
      "tensor([1.0098, 0.9460, 0.9176, 1.0123, 0.9383, 0.9479, 0.8912, 0.9911, 0.8993,\n",
      "        0.9808, 0.9113, 1.0217, 1.0067, 0.8937, 0.9815, 0.9573, 0.9591, 0.9613,\n",
      "        0.9672, 0.9539, 0.9488, 0.9813, 0.9601, 0.9922, 0.9755, 0.9707, 0.8749,\n",
      "        0.9758, 1.0107, 0.9141, 0.9408, 0.9454], device='cuda:0',\n",
      "       requires_grad=True)\n",
      "dense.weight Parameter containing:\n",
      "tensor([[ 0.0785,  0.0264,  0.0018, -0.0757,  0.0648, -0.2238,  0.1832, -0.4813,\n",
      "         -0.0103, -0.1969, -0.0117, -0.1254, -0.0139,  0.0457,  0.0419, -0.1832,\n",
      "         -0.1607, -0.3581,  0.0553,  0.0773, -0.1001, -0.2848, -0.0428,  0.0400,\n",
      "          0.0470, -0.3964,  0.1939, -0.2231, -0.3503, -0.0762,  0.2135,  0.3577]],\n",
      "       device='cuda:0', requires_grad=True)\n",
      "dense.bias Parameter containing:\n",
      "tensor([-0.0649], device='cuda:0', requires_grad=True)\n"
     ]
    }
   ],
   "source": [
    "for name, param in rnn.named_parameters():\n",
    "    if 'embedding' in name: continue\n",
    "    print(name, param)"
   ]
  },
  {
   "cell_type": "markdown",
   "metadata": {},
   "source": [
    "# Evaluation"
   ]
  },
  {
   "cell_type": "code",
   "execution_count": 15,
   "metadata": {},
   "outputs": [
    {
     "name": "stdout",
     "output_type": "stream",
     "text": [
      "Accuracy: 0.604\n"
     ]
    }
   ],
   "source": [
    "y_test, y_pred = predict_evaluate(rnn, test_loader)"
   ]
  },
  {
   "cell_type": "code",
   "execution_count": 16,
   "metadata": {},
   "outputs": [
    {
     "name": "stdout",
     "output_type": "stream",
     "text": [
      "              precision    recall  f1-score   support\n",
      "\n",
      "         0.0       0.63      0.50      0.56     12500\n",
      "         1.0       0.59      0.71      0.64     12500\n",
      "\n",
      "    accuracy                           0.60     25000\n",
      "   macro avg       0.61      0.60      0.60     25000\n",
      "weighted avg       0.61      0.60      0.60     25000\n",
      "\n"
     ]
    }
   ],
   "source": [
    "print(classification_report(y_true=y_test, y_pred=y_pred))"
   ]
  },
  {
   "cell_type": "code",
   "execution_count": null,
   "metadata": {},
   "outputs": [],
   "source": []
  }
 ],
 "metadata": {
  "kernelspec": {
   "display_name": "Python 3",
   "language": "python",
   "name": "python3"
  },
  "language_info": {
   "codemirror_mode": {
    "name": "ipython",
    "version": 3
   },
   "file_extension": ".py",
   "mimetype": "text/x-python",
   "name": "python",
   "nbconvert_exporter": "python",
   "pygments_lexer": "ipython3",
   "version": "3.11.5"
  }
 },
 "nbformat": 4,
 "nbformat_minor": 2
}
