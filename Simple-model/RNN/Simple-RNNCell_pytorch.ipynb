{
 "cells": [
  {
   "cell_type": "markdown",
   "metadata": {},
   "source": [
    "# Import"
   ]
  },
  {
   "cell_type": "code",
   "execution_count": 1,
   "metadata": {},
   "outputs": [
    {
     "name": "stdout",
     "output_type": "stream",
     "text": [
      "cuda\n"
     ]
    }
   ],
   "source": [
    "# torch package\n",
    "import torch\n",
    "import torch.nn as nn\n",
    "import torch.optim as optim\n",
    "import torch.nn.functional as F\n",
    "\n",
    "\n",
    "# dataset packagea\n",
    "from torch.utils.data import Dataset, DataLoader\n",
    "from tensorflow.keras.datasets import imdb\n",
    "from sklearn.model_selection import train_test_split\n",
    "\n",
    "# metrcis\n",
    "from sklearn.metrics import accuracy_score, classification_report\n",
    "\n",
    "# ETC\n",
    "from tqdm import tqdm\n",
    "import numpy as np\n",
    "import matplotlib.pyplot as plt\n",
    "\n",
    "\n",
    "device = torch.device(\"cuda\" if torch.cuda.is_available() else \"cpu\")\n",
    "print(device)"
   ]
  },
  {
   "cell_type": "markdown",
   "metadata": {},
   "source": [
    "# Simple-RNN Model"
   ]
  },
  {
   "cell_type": "code",
   "execution_count": 2,
   "metadata": {},
   "outputs": [],
   "source": [
    "class SimpleRNN_cell(nn.Module):\n",
    "    def __init__(self, input_size, hidden_size, device):\n",
    "        super().__init__()\n",
    "        # input_size: X features(X's columns) \n",
    "        # if X.shape (batch_size, sequence_length, feature) then X.shape[2](feature)\n",
    "\n",
    "        self.input_size = input_size\n",
    "        self.hidden_size = hidden_size\n",
    "        self.device = device\n",
    "\n",
    "\n",
    "        # 파라미터 생성 및 초기화\n",
    "        # forward 내 tanh 인자값에 대한 연산으로 torch.matmul을 사용할 경우 아래 주석처리된 W_xh를 사용\n",
    "        # self.W_xh = nn.Parameter(torch.empty(self.input_size, self.hidden_size, device=self.device))\n",
    "        self.W_xh = nn.Parameter(torch.empty(self.hidden_size, self.input_size, device=self.device))\n",
    "        self.W_hh = nn.Parameter(torch.empty(self.hidden_size, self.hidden_size, device=self.device))\n",
    "        self.b_xh = nn.Parameter(torch.empty(self.hidden_size, device=self.device))\n",
    "        self.b_hh = nn.Parameter(torch.empty(self.hidden_size, device=self.device))\n",
    "\n",
    "\n",
    "        nn.init.xavier_uniform_(self.W_xh, gain=1.0)\n",
    "        nn.init.xavier_uniform_(self.W_hh, gain=1.0)\n",
    "        nn.init.constant_(self.b_xh, 1.)\n",
    "        nn.init.constant_(self.b_hh, 1.)\n",
    "\n",
    "\n",
    "    # tanh함수를 구현하였으나 torch cuda/cpu 연산처리 관련해서 복잡하므로 그냥 torch.tanh 사용\n",
    "    def tanh(self, x):\n",
    "        return (torch.exp(x) - torch.exp(-x))/(torch.exp(x) + torch.exp(-x))\n",
    "    \n",
    "\n",
    "    def forward(self, x, hidden=None): # x.shape: (batch_size, sequence_length, embeding_size)\n",
    "        # init hidden state\n",
    "        if hidden is None:\n",
    "            hidden = torch.zeros(x.shape[0], self.hidden_size, device=self.device)\n",
    "\n",
    "\n",
    "        # output.shape: (batch_size, sequence_length, hidden_size)\n",
    "        outputs = []\n",
    "        for seq in range(x.shape[1]):\n",
    "            input_x = x[:,seq,:]\n",
    "            hidden = torch.tanh(F.linear(input_x, self.W_xh, self.b_xh)  + F.linear(hidden, self.W_hh, self.b_hh))\n",
    "            outputs.append(hidden.unsqueeze(1))\n",
    "\n",
    "        outputs = torch.cat(outputs, dim=1)\n",
    "        return outputs"
   ]
  },
  {
   "cell_type": "markdown",
   "metadata": {},
   "source": [
    "$h_t = tanh(W_{xh} \\cdot x_t + b_{xh} + W_{hh} \\cdot h_{t-1} + b_{hh})$  "
   ]
  },
  {
   "cell_type": "code",
   "execution_count": 3,
   "metadata": {},
   "outputs": [],
   "source": [
    "class SimpleRNN(nn.Module):\n",
    "    def __init__(self, config):\n",
    "        super().__init__()\n",
    "        self.config = config\n",
    "\n",
    "\n",
    "        self.embedding = nn.Embedding(num_embeddings=config.vocab_size,\n",
    "                                     embedding_dim=config.em_output)\n",
    "        \n",
    "        # batch_size, sequence_size, embeding_size\n",
    "        self.rnn_1 = SimpleRNN_cell(input_size=config.em_output,\n",
    "                                    hidden_size=config.rnn_node1,\n",
    "                                    device=config.device)\n",
    "        \n",
    "        self.drop_out = nn.Dropout(p=config.drop_out_rate)\n",
    "        \n",
    "        self.rnn_2 = SimpleRNN_cell(input_size=config.rnn_node1,\n",
    "                                    hidden_size=config.rnn_node2,\n",
    "                                    device=config.device)\n",
    "        \n",
    "        self.dense = nn.Linear(in_features=config.rnn_node2, out_features=1)\n",
    "\n",
    "\n",
    "    def forward(self, x):\n",
    "        ebd = self.embedding(x)\n",
    "        rnn1_output = self.rnn_1(ebd)\n",
    "        drop_layer = self.drop_out(rnn1_output)\n",
    "        rnn2_output = self.rnn_2(drop_layer)\n",
    "        drop_layer = self.drop_out(rnn2_output)\n",
    "        dense_output = self.dense(drop_layer[:, -1, :])\n",
    "        sigmoid_output = torch.sigmoid(dense_output)\n",
    "        # final_output = (sigmoid_output > 0.5).float().view(-1)\n",
    "        \n",
    "        return sigmoid_output"
   ]
  },
  {
   "cell_type": "markdown",
   "metadata": {},
   "source": [
    "# Train"
   ]
  },
  {
   "cell_type": "code",
   "execution_count": 4,
   "metadata": {},
   "outputs": [],
   "source": [
    "def train(model, config, train, valid, optimizer=False, loss=False):\n",
    "    train_loss_history = []\n",
    "    valid_loss_history = []\n",
    "    \n",
    "    optimizer = optimizer if optimizer else optim.Adam(model.parameters(), lr=config.learning_rate)\n",
    "    loss_function = loss if loss else nn.BCELoss()\n",
    "\n",
    "\n",
    "    for i in range(config.epochs):\n",
    "        train_loss_ = 0\n",
    "        model.train()\n",
    "        with torch.enable_grad():\n",
    "            for feature, label in train:\n",
    "                optimizer.zero_grad()\n",
    "                outputs = model(feature).view(-1)\n",
    "                loss = loss_function(outputs, label)\n",
    "                loss.requires_grad_(True)\n",
    "                loss.backward()\n",
    "                optimizer.step()\n",
    "\n",
    "                train_loss_ += loss.item()\n",
    "\n",
    "        train_loss_ /= config.batch_size\n",
    "        train_loss_history.append(train_loss_)\n",
    "\n",
    "\n",
    "        valid_loss_ = 0\n",
    "        model.eval()\n",
    "        with torch.no_grad():\n",
    "            for feature, label in valid:\n",
    "                outputs = model(feature)\n",
    "                loss = loss_function(outputs.reshape(-1), label)\n",
    "                \n",
    "                valid_loss_ += loss.item()\n",
    "\n",
    "        valid_loss_ /= config.batch_size\n",
    "        valid_loss_history.append(valid_loss_)\n",
    "\n",
    "        if (i+1)%int((config.epochs)*0.1)==0:\n",
    "            print(f\"epoch : {i+1} Loss(train) : {train_loss_history[-1]:.3f}  Loss(valid) : {valid_loss_history[-1]:.3f}\")\n",
    "\n",
    "\n",
    "    \n",
    "    plt.plot(train_loss_history, label='Training loss')\n",
    "    plt.plot(valid_loss_history, label='Validation loss')\n",
    "    plt.legend()\n",
    "    plt.show()\n",
    "    print(\"=\"*40)\n",
    "    print(\"Training loss: \", train_loss_history[-1])\n",
    "    print(\"Validation loss: \", valid_loss_history[-1])\n",
    "    print(\"=\"*40)"
   ]
  },
  {
   "cell_type": "markdown",
   "metadata": {},
   "source": [
    "# Predict"
   ]
  },
  {
   "cell_type": "code",
   "execution_count": 5,
   "metadata": {},
   "outputs": [],
   "source": [
    "def predict_evaluate(model, test):\n",
    "    model.eval()\n",
    "    output_list = []\n",
    "    acc = []\n",
    "\n",
    "    y_pred = []\n",
    "    y_test = []\n",
    "    with torch.no_grad():\n",
    "        for feature, label in test:\n",
    "            outputs = model(feature)\n",
    "            output_list.append(outputs)\n",
    "            outputs = outputs.cpu()\n",
    "            outputs = (outputs > 0.5).float().view(-1)\n",
    "\n",
    "            label = label.cpu()\n",
    "            acc.append(accuracy_score(label, outputs))\n",
    "            y_pred.append(outputs)\n",
    "            y_test.append(label)\n",
    "\n",
    "\n",
    "    print(f\"Accuracy: {(sum(acc)/len(acc)):.3f}\")\n",
    "\n",
    "    return np.array(y_test).reshape(-1), np.array(y_pred).reshape(-1)"
   ]
  },
  {
   "cell_type": "markdown",
   "metadata": {},
   "source": [
    "# Hyperparameter config"
   ]
  },
  {
   "cell_type": "code",
   "execution_count": 6,
   "metadata": {},
   "outputs": [],
   "source": [
    "class config():\n",
    "    def __init__(self, max_size, vocab_size, em_output, rnn_node1, rnn_node2, device, drop_out_rate=0.5, learning_rate=0.001, patience_ratio=0.2, epochs=100, \n",
    "                 validation_split=0.2, batch_size = 128):\n",
    "        \n",
    "        self.vocab_size = vocab_size\n",
    "        self.em_output = em_output\n",
    "        self.max_size = max_size\n",
    "\n",
    "        self.rnn_node1 = rnn_node1\n",
    "        self.rnn_node2 = rnn_node2\n",
    "        self.drop_out_rate =drop_out_rate\n",
    "        self.learning_rate = learning_rate\n",
    "        self.patience = epochs * patience_ratio\n",
    "        self.batch_size = batch_size\n",
    "        self.epochs = epochs\n",
    "        self.validation_split = validation_split\n",
    "\n",
    "        self.device = device"
   ]
  },
  {
   "cell_type": "markdown",
   "metadata": {},
   "source": [
    "# Dataset"
   ]
  },
  {
   "cell_type": "code",
   "execution_count": 7,
   "metadata": {},
   "outputs": [],
   "source": [
    "class IMDBDataset(Dataset):\n",
    "    def __init__(self, X, y, max_size, device):\n",
    "        X_np = np.array([np.array(xi) for xi in X],dtype=object)\n",
    "        X_pad = np.zeros((len(X_np), max_size))\n",
    "        for i in range(len(X)):\n",
    "            pad_length = min(len(X_np[i]), max_size)\n",
    "            X_pad[i, :pad_length] = X_np[i][:pad_length]\n",
    "\n",
    "        self.X = torch.Tensor(X_pad).long().to(device)\n",
    "        self.y = torch.Tensor(y).to(device)\n",
    "\n",
    "\n",
    "    def __len__(self):\n",
    "        return len(self.X)\n",
    "\n",
    "\n",
    "    def __getitem__(self, idx):\n",
    "        return self.X[idx], self.y[idx]"
   ]
  },
  {
   "cell_type": "code",
   "execution_count": 8,
   "metadata": {},
   "outputs": [],
   "source": [
    "# rnn의 장기의존성 이슈 때문에 max_len이 길 경우 학습이 제대로 진행되지 않음\n",
    "max_len = 100 # Cell 구현 중 for문을 사용하여 max_len이 길면 학습 시간이 길어짐\n",
    "vocab_size = 10000\n",
    "batch_size = 200\n",
    "\n",
    "(X_trian, y_train), (X_test, y_test) = imdb.load_data(num_words=vocab_size)\n",
    "X_train, X_valid, y_train, y_valid = train_test_split(X_trian, y_train, train_size=0.8, stratify=y_train)\n",
    "\n",
    "\n",
    "train_dataset = IMDBDataset(X_train, y_train, max_len, device=device)\n",
    "valid_dataset = IMDBDataset(X_valid, y_valid, max_len, device=device)\n",
    "test_dataset = IMDBDataset(X_test, y_test, max_len, device=device)\n",
    "\n",
    "train_loader = DataLoader(train_dataset, batch_size=batch_size, shuffle=True)\n",
    "valid_loader = DataLoader(valid_dataset, batch_size=batch_size, shuffle=True)\n",
    "test_loader = DataLoader(test_dataset, batch_size=batch_size, shuffle=True)\n"
   ]
  },
  {
   "cell_type": "code",
   "execution_count": 9,
   "metadata": {},
   "outputs": [
    {
     "data": {
      "text/plain": [
       "torch.Size([20000, 100])"
      ]
     },
     "execution_count": 9,
     "metadata": {},
     "output_type": "execute_result"
    }
   ],
   "source": [
    "train_dataset.X.shape"
   ]
  },
  {
   "cell_type": "markdown",
   "metadata": {},
   "source": [
    "# Model"
   ]
  },
  {
   "cell_type": "code",
   "execution_count": 10,
   "metadata": {},
   "outputs": [],
   "source": [
    "rnn_config = config(vocab_size=vocab_size,\n",
    "                    max_size=max_len,\n",
    "                    em_output=32,\n",
    "\n",
    "                    rnn_node1=64,\n",
    "                    rnn_node2=32,\n",
    "\n",
    "                    drop_out_rate=0.1,\n",
    "                    learning_rate=0.001,\n",
    "                    # patience_ratio=0.3,\n",
    "                    epochs=40,\n",
    "                    batch_size=batch_size,\n",
    "                    device=device\n",
    "                    )"
   ]
  },
  {
   "cell_type": "code",
   "execution_count": 11,
   "metadata": {},
   "outputs": [],
   "source": [
    "rnn = SimpleRNN(rnn_config).to(device)"
   ]
  },
  {
   "cell_type": "code",
   "execution_count": 12,
   "metadata": {},
   "outputs": [
    {
     "name": "stdout",
     "output_type": "stream",
     "text": [
      "rnn_1.W_xh Parameter containing:\n",
      "tensor([[-0.1433, -0.0406, -0.2203,  ...,  0.0681,  0.0895, -0.0097],\n",
      "        [-0.0210, -0.2375,  0.0292,  ..., -0.2398,  0.0422, -0.1599],\n",
      "        [ 0.2311, -0.2456,  0.2407,  ..., -0.2058,  0.1500, -0.0830],\n",
      "        ...,\n",
      "        [ 0.2496,  0.1886, -0.1234,  ...,  0.0923, -0.1728, -0.0869],\n",
      "        [ 0.0859, -0.1661,  0.0289,  ..., -0.2022,  0.1653,  0.0072],\n",
      "        [-0.2397, -0.1342, -0.0913,  ...,  0.1203, -0.0818,  0.0668]],\n",
      "       device='cuda:0', requires_grad=True)\n",
      "rnn_1.W_hh Parameter containing:\n",
      "tensor([[ 0.0566, -0.0531,  0.2136,  ...,  0.2094, -0.0585,  0.1673],\n",
      "        [-0.1917, -0.1367, -0.1605,  ...,  0.0623, -0.0406, -0.2038],\n",
      "        [-0.1325, -0.1599, -0.2108,  ..., -0.0204,  0.2141,  0.2149],\n",
      "        ...,\n",
      "        [ 0.0321,  0.0892,  0.1828,  ...,  0.0490,  0.0018, -0.0322],\n",
      "        [-0.0967, -0.0017, -0.1567,  ..., -0.0351,  0.2114,  0.0865],\n",
      "        [-0.1154,  0.0544, -0.1483,  ..., -0.0203,  0.0020,  0.0843]],\n",
      "       device='cuda:0', requires_grad=True)\n",
      "rnn_1.b_xh Parameter containing:\n",
      "tensor([1., 1., 1., 1., 1., 1., 1., 1., 1., 1., 1., 1., 1., 1., 1., 1., 1., 1.,\n",
      "        1., 1., 1., 1., 1., 1., 1., 1., 1., 1., 1., 1., 1., 1., 1., 1., 1., 1.,\n",
      "        1., 1., 1., 1., 1., 1., 1., 1., 1., 1., 1., 1., 1., 1., 1., 1., 1., 1.,\n",
      "        1., 1., 1., 1., 1., 1., 1., 1., 1., 1.], device='cuda:0',\n",
      "       requires_grad=True)\n",
      "rnn_1.b_hh Parameter containing:\n",
      "tensor([1., 1., 1., 1., 1., 1., 1., 1., 1., 1., 1., 1., 1., 1., 1., 1., 1., 1.,\n",
      "        1., 1., 1., 1., 1., 1., 1., 1., 1., 1., 1., 1., 1., 1., 1., 1., 1., 1.,\n",
      "        1., 1., 1., 1., 1., 1., 1., 1., 1., 1., 1., 1., 1., 1., 1., 1., 1., 1.,\n",
      "        1., 1., 1., 1., 1., 1., 1., 1., 1., 1.], device='cuda:0',\n",
      "       requires_grad=True)\n",
      "rnn_2.W_xh Parameter containing:\n",
      "tensor([[-0.0318,  0.2306,  0.2430,  ..., -0.1730, -0.1871, -0.0872],\n",
      "        [ 0.1820,  0.0061,  0.1853,  ..., -0.0305, -0.2256,  0.1024],\n",
      "        [-0.2278,  0.1689,  0.0158,  ..., -0.2199,  0.2412,  0.1914],\n",
      "        ...,\n",
      "        [ 0.0811, -0.1584, -0.0349,  ..., -0.0456, -0.1253,  0.0265],\n",
      "        [ 0.1151, -0.1326, -0.0395,  ..., -0.1280, -0.1454,  0.0067],\n",
      "        [ 0.1339,  0.1858,  0.0299,  ..., -0.1194, -0.0821,  0.1755]],\n",
      "       device='cuda:0', requires_grad=True)\n",
      "rnn_2.W_hh Parameter containing:\n",
      "tensor([[-0.2036, -0.1178, -0.1962,  ...,  0.2183,  0.2917,  0.0971],\n",
      "        [ 0.0983, -0.0254, -0.2434,  ..., -0.1342,  0.1538,  0.1410],\n",
      "        [-0.2713,  0.0501,  0.2275,  ..., -0.0271,  0.1407,  0.1609],\n",
      "        ...,\n",
      "        [-0.1339,  0.3000, -0.0539,  ...,  0.0960,  0.0928, -0.1130],\n",
      "        [-0.1443, -0.0148,  0.1057,  ...,  0.2762, -0.1939,  0.2275],\n",
      "        [ 0.1119, -0.1676,  0.2500,  ...,  0.0212,  0.0572,  0.2618]],\n",
      "       device='cuda:0', requires_grad=True)\n",
      "rnn_2.b_xh Parameter containing:\n",
      "tensor([1., 1., 1., 1., 1., 1., 1., 1., 1., 1., 1., 1., 1., 1., 1., 1., 1., 1.,\n",
      "        1., 1., 1., 1., 1., 1., 1., 1., 1., 1., 1., 1., 1., 1.],\n",
      "       device='cuda:0', requires_grad=True)\n",
      "rnn_2.b_hh Parameter containing:\n",
      "tensor([1., 1., 1., 1., 1., 1., 1., 1., 1., 1., 1., 1., 1., 1., 1., 1., 1., 1.,\n",
      "        1., 1., 1., 1., 1., 1., 1., 1., 1., 1., 1., 1., 1., 1.],\n",
      "       device='cuda:0', requires_grad=True)\n",
      "dense.weight Parameter containing:\n",
      "tensor([[ 0.0889, -0.0914, -0.0863,  0.0982, -0.1322, -0.0661,  0.1554, -0.1687,\n",
      "          0.0336,  0.0163,  0.0201,  0.1067,  0.0595,  0.0340, -0.0328,  0.1604,\n",
      "          0.1003, -0.1736, -0.0966,  0.0696, -0.1048, -0.0117,  0.0838,  0.0172,\n",
      "         -0.0909, -0.0286, -0.0732,  0.1742,  0.0432,  0.0311,  0.1307,  0.0317]],\n",
      "       device='cuda:0', requires_grad=True)\n",
      "dense.bias Parameter containing:\n",
      "tensor([-0.0617], device='cuda:0', requires_grad=True)\n"
     ]
    }
   ],
   "source": [
    "for name, param in rnn.named_parameters():\n",
    "    if 'embedding' in name: continue\n",
    "    print(name, param)"
   ]
  },
  {
   "cell_type": "code",
   "execution_count": 13,
   "metadata": {},
   "outputs": [
    {
     "name": "stdout",
     "output_type": "stream",
     "text": [
      "epoch : 4 Loss(train) : 0.345  Loss(valid) : 0.087\n",
      "epoch : 8 Loss(train) : 0.330  Loss(valid) : 0.086\n",
      "epoch : 12 Loss(train) : 0.302  Loss(valid) : 0.083\n",
      "epoch : 16 Loss(train) : 0.249  Loss(valid) : 0.086\n",
      "epoch : 20 Loss(train) : 0.231  Loss(valid) : 0.096\n",
      "epoch : 24 Loss(train) : 0.259  Loss(valid) : 0.089\n",
      "epoch : 28 Loss(train) : 0.180  Loss(valid) : 0.090\n",
      "epoch : 32 Loss(train) : 0.155  Loss(valid) : 0.096\n",
      "epoch : 36 Loss(train) : 0.137  Loss(valid) : 0.111\n",
      "epoch : 40 Loss(train) : 0.117  Loss(valid) : 0.119\n"
     ]
    },
    {
     "data": {
      "image/png": "[encoded data removed]",
      "text/plain": [
       "<Figure size 640x480 with 1 Axes>"
      ]
     },
     "metadata": {},
     "output_type": "display_data"
    },
    {
     "name": "stdout",
     "output_type": "stream",
     "text": [
      "========================================\n",
      "Training loss:  0.11680514730513096\n",
      "Validation loss:  0.11855152904987336\n",
      "========================================\n"
     ]
    }
   ],
   "source": [
    "train(rnn, rnn_config, train_loader, valid_loader)"
   ]
  },
  {
   "cell_type": "code",
   "execution_count": 14,
   "metadata": {},
   "outputs": [
    {
     "name": "stdout",
     "output_type": "stream",
     "text": [
      "rnn_1.W_xh Parameter containing:\n",
      "tensor([[ 0.1121,  0.1145, -0.3379,  ...,  0.0232,  0.2368, -0.0488],\n",
      "        [-0.1708, -0.3868,  0.0101,  ..., -0.2813, -0.0520, -0.3137],\n",
      "        [ 0.1883, -0.0891,  0.1914,  ..., -0.2354,  0.1412, -0.0146],\n",
      "        ...,\n",
      "        [ 0.4335,  0.5110, -0.0811,  ...,  0.1564,  0.0272, -0.0042],\n",
      "        [-0.0837, -0.3511,  0.1212,  ..., -0.1057,  0.0880,  0.0543],\n",
      "        [-0.0395, -0.0555,  0.0304,  ...,  0.0258, -0.2399, -0.1677]],\n",
      "       device='cuda:0', requires_grad=True)\n",
      "rnn_1.W_hh Parameter containing:\n",
      "tensor([[ 0.0525, -0.0349,  0.2699,  ...,  0.2193, -0.1842,  0.0408],\n",
      "        [-0.2333, -0.3021, -0.1487,  ...,  0.0708, -0.1032, -0.2225],\n",
      "        [-0.2079, -0.3819, -0.3005,  ..., -0.0376,  0.1457,  0.2006],\n",
      "        ...,\n",
      "        [-0.0366,  0.0678,  0.2019,  ...,  0.0049, -0.1623, -0.0708],\n",
      "        [-0.2071, -0.1471, -0.2762,  ..., -0.1025,  0.0780,  0.0877],\n",
      "        [-0.0012, -0.1200, -0.2075,  ...,  0.0080, -0.0592, -0.0789]],\n",
      "       device='cuda:0', requires_grad=True)\n",
      "rnn_1.b_xh Parameter containing:\n",
      "tensor([0.9798, 0.9565, 0.9663, 0.9714, 0.9461, 0.9543, 0.9694, 0.9666, 0.9524,\n",
      "        0.9648, 0.9418, 0.9983, 0.9716, 0.9783, 0.9622, 0.9560, 0.9621, 0.9132,\n",
      "        0.9504, 0.9613, 0.9420, 0.9593, 0.9670, 0.9439, 0.9763, 0.9557, 0.9659,\n",
      "        0.9780, 0.9933, 0.9524, 0.9650, 0.9509, 0.9174, 0.9676, 0.9358, 0.9465,\n",
      "        0.9592, 0.9891, 0.9726, 0.9628, 0.9878, 0.9520, 0.9833, 0.9613, 0.9477,\n",
      "        0.9551, 0.9880, 0.9654, 0.9760, 0.9671, 0.9388, 0.9268, 0.9594, 0.9626,\n",
      "        0.9695, 0.9099, 0.9887, 0.9912, 0.9460, 0.9933, 0.9966, 0.9566, 0.9162,\n",
      "        0.9418], device='cuda:0', requires_grad=True)\n",
      "rnn_1.b_hh Parameter containing:\n",
      "tensor([0.9798, 0.9565, 0.9663, 0.9714, 0.9461, 0.9543, 0.9694, 0.9666, 0.9524,\n",
      "        0.9648, 0.9418, 0.9983, 0.9716, 0.9783, 0.9622, 0.9560, 0.9621, 0.9132,\n",
      "        0.9504, 0.9613, 0.9420, 0.9593, 0.9670, 0.9439, 0.9763, 0.9557, 0.9659,\n",
      "        0.9780, 0.9933, 0.9524, 0.9650, 0.9509, 0.9174, 0.9676, 0.9358, 0.9465,\n",
      "        0.9592, 0.9891, 0.9726, 0.9628, 0.9878, 0.9520, 0.9833, 0.9613, 0.9477,\n",
      "        0.9551, 0.9880, 0.9654, 0.9760, 0.9671, 0.9388, 0.9268, 0.9594, 0.9626,\n",
      "        0.9695, 0.9099, 0.9887, 0.9912, 0.9460, 0.9933, 0.9966, 0.9566, 0.9162,\n",
      "        0.9418], device='cuda:0', requires_grad=True)\n",
      "rnn_2.W_xh Parameter containing:\n",
      "tensor([[-0.0108,  0.1145,  0.1558,  ..., -0.0204, -0.1643, -0.1988],\n",
      "        [ 0.2216,  0.2369,  0.1840,  ...,  0.0814,  0.0622,  0.0803],\n",
      "        [-0.2886,  0.1235,  0.3473,  ..., -0.1827,  0.0285,  0.1776],\n",
      "        ...,\n",
      "        [ 0.1042, -0.2718, -0.1790,  ..., -0.0443, -0.0629, -0.0711],\n",
      "        [ 0.0085, -0.2882, -0.1778,  ..., -0.1693, -0.2860, -0.1226],\n",
      "        [ 0.0677,  0.1699,  0.0253,  ..., -0.0542, -0.0917,  0.1332]],\n",
      "       device='cuda:0', requires_grad=True)\n",
      "rnn_2.W_hh Parameter containing:\n",
      "tensor([[-0.0778, -0.2436, -0.2210,  ...,  0.4797,  0.3066,  0.1184],\n",
      "        [ 0.0031, -0.0471, -0.2567,  ..., -0.2927,  0.2037,  0.1498],\n",
      "        [-0.3230, -0.0427,  0.1590,  ..., -0.0665,  0.0899,  0.1329],\n",
      "        ...,\n",
      "        [-0.2108,  0.2787, -0.1400,  ...,  0.1574,  0.1052, -0.1889],\n",
      "        [-0.0964, -0.0807,  0.0331,  ...,  0.4165, -0.3550,  0.2004],\n",
      "        [ 0.3280, -0.2407,  0.2045,  ...,  0.1107,  0.1582,  0.6408]],\n",
      "       device='cuda:0', requires_grad=True)\n",
      "rnn_2.b_xh Parameter containing:\n",
      "tensor([0.9366, 0.9698, 0.9498, 0.9989, 0.9172, 0.9308, 0.9082, 0.9777, 0.9067,\n",
      "        0.9115, 0.9701, 0.9715, 0.9381, 0.9635, 0.9127, 0.9598, 1.0223, 0.9517,\n",
      "        0.9614, 0.9546, 0.9218, 0.8637, 0.8655, 0.9832, 0.9752, 0.9455, 0.9371,\n",
      "        0.9603, 0.8874, 0.9581, 0.9215, 0.9647], device='cuda:0',\n",
      "       requires_grad=True)\n",
      "rnn_2.b_hh Parameter containing:\n",
      "tensor([0.9366, 0.9698, 0.9498, 0.9989, 0.9172, 0.9308, 0.9082, 0.9777, 0.9067,\n",
      "        0.9115, 0.9701, 0.9715, 0.9381, 0.9635, 0.9127, 0.9598, 1.0223, 0.9517,\n",
      "        0.9614, 0.9546, 0.9218, 0.8637, 0.8655, 0.9832, 0.9752, 0.9455, 0.9371,\n",
      "        0.9603, 0.8874, 0.9581, 0.9215, 0.9647], device='cuda:0',\n",
      "       requires_grad=True)\n",
      "dense.weight Parameter containing:\n",
      "tensor([[ 2.5841e-02, -1.6579e-02, -9.9931e-02, -2.6422e-03, -5.6343e-01,\n",
      "         -3.3105e-01,  5.3847e-01, -3.9110e-01,  2.9178e-04,  5.2712e-02,\n",
      "         -1.0674e-02,  1.5564e-01,  2.8256e-01,  2.5003e-01,  1.3861e-01,\n",
      "          4.3321e-01,  2.7339e-02, -2.7569e-01, -1.1343e-01,  7.5072e-02,\n",
      "         -9.6310e-02, -2.4871e-03,  2.0892e-01, -2.1880e-02, -3.6404e-01,\n",
      "         -4.7196e-03, -7.3330e-03,  4.6470e-01,  3.7100e-02,  2.9223e-01,\n",
      "          2.3919e-01,  6.0555e-02]], device='cuda:0', requires_grad=True)\n",
      "dense.bias Parameter containing:\n",
      "tensor([-0.1074], device='cuda:0', requires_grad=True)\n"
     ]
    }
   ],
   "source": [
    "for name, param in rnn.named_parameters():\n",
    "    if 'embedding' in name: continue\n",
    "    print(name, param)"
   ]
  },
  {
   "cell_type": "markdown",
   "metadata": {},
   "source": [
    "# Evaluation"
   ]
  },
  {
   "cell_type": "code",
   "execution_count": 15,
   "metadata": {},
   "outputs": [
    {
     "name": "stdout",
     "output_type": "stream",
     "text": [
      "Accuracy: 0.650\n"
     ]
    }
   ],
   "source": [
    "y_test, y_pred = predict_evaluate(rnn, test_loader)"
   ]
  },
  {
   "cell_type": "code",
   "execution_count": 16,
   "metadata": {},
   "outputs": [
    {
     "name": "stdout",
     "output_type": "stream",
     "text": [
      "              precision    recall  f1-score   support\n",
      "\n",
      "         0.0       0.66      0.61      0.63     12500\n",
      "         1.0       0.64      0.69      0.66     12500\n",
      "\n",
      "    accuracy                           0.65     25000\n",
      "   macro avg       0.65      0.65      0.65     25000\n",
      "weighted avg       0.65      0.65      0.65     25000\n",
      "\n"
     ]
    }
   ],
   "source": [
    "print(classification_report(y_true=y_test, y_pred=y_pred))"
   ]
  },
  {
   "cell_type": "code",
   "execution_count": null,
   "metadata": {},
   "outputs": [],
   "source": []
  }
 ],
 "metadata": {
  "kernelspec": {
   "display_name": "Python 3",
   "language": "python",
   "name": "python3"
  },
  "language_info": {
   "codemirror_mode": {
    "name": "ipython",
    "version": 3
   },
   "file_extension": ".py",
   "mimetype": "text/x-python",
   "name": "python",
   "nbconvert_exporter": "python",
   "pygments_lexer": "ipython3",
   "version": "3.11.5"
  }
 },
 "nbformat": 4,
 "nbformat_minor": 2
}
