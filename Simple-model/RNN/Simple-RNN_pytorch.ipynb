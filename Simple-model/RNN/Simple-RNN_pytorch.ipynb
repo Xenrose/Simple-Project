{
 "cells": [
  {
   "cell_type": "markdown",
   "metadata": {},
   "source": [
    "# Import"
   ]
  },
  {
   "cell_type": "code",
   "execution_count": 1,
   "metadata": {},
   "outputs": [],
   "source": [
    "# torch package\n",
    "import torch\n",
    "import torch.nn as nn\n",
    "import torch.optim as optim\n",
    "import torch.nn.functional as F\n",
    "\n",
    "\n",
    "# dataset packagea\n",
    "from torch.utils.data import Dataset, DataLoader\n",
    "from tensorflow.keras.datasets import imdb\n",
    "from sklearn.model_selection import train_test_split\n",
    "\n",
    "# metrcis\n",
    "from sklearn.metrics import accuracy_score, classification_report\n",
    "\n",
    "# ETC\n",
    "from tqdm import tqdm\n",
    "import numpy as np\n",
    "import matplotlib.pyplot as plt\n",
    "\n",
    "\n",
    "device = torch.device(\"cuda\" if torch.cuda.is_available() else \"cpu\")\n",
    "print(device)"
   ]
  },
  {
   "cell_type": "markdown",
   "metadata": {},
   "source": [
    "# Simple-RNN Model"
   ]
  },
  {
   "cell_type": "code",
   "execution_count": 2,
   "metadata": {},
   "outputs": [],
   "source": [
    "class SimpleRNN(nn.Module):\n",
    "    def __init__(self, config):\n",
    "        super().__init__()\n",
    "        self.config = config\n",
    "\n",
    "\n",
    "        self.embedding = nn.Embedding(num_embeddings=config.vocab_size,\n",
    "                                     embedding_dim=config.em_output)\n",
    "        \n",
    "        # batch_size, sequence_size, embeding_size\n",
    "        self.rnn_1 = nn.RNN(input_size=config.em_output,\n",
    "                            hidden_size=config.rnn_node1,\n",
    "                            num_layers=1,\n",
    "                            batch_first=True)\n",
    "        \n",
    "        self.drop_out = nn.Dropout(p=config.drop_out_rate)\n",
    "        \n",
    "        self.rnn_2 = nn.RNN(input_size=config.rnn_node1,\n",
    "                            hidden_size=config.rnn_node2,\n",
    "                            num_layers=1,\n",
    "                            batch_first=True)\n",
    "        \n",
    "        self.dense = nn.Linear(in_features=config.rnn_node2, out_features=1)\n",
    "\n",
    "\n",
    "    def forward(self, x):\n",
    "        ebd = self.embedding(x)\n",
    "        rnn1_output, _ = self.rnn_1(ebd)\n",
    "        drop_layer = self.drop_out(rnn1_output)\n",
    "        rnn2_output, _ = self.rnn_2(drop_layer)\n",
    "        drop_layer = self.drop_out(rnn2_output)\n",
    "        dense_output = self.dense(drop_layer[:, -1, :])\n",
    "        sigmoid_output = torch.sigmoid(dense_output)\n",
    "        # final_output = (sigmoid_output > 0.5).float().view(-1)\n",
    "        \n",
    "\n",
    "        return sigmoid_output    "
   ]
  },
  {
   "cell_type": "markdown",
   "metadata": {},
   "source": [
    "# Train"
   ]
  },
  {
   "cell_type": "code",
   "execution_count": 3,
   "metadata": {},
   "outputs": [],
   "source": [
    "def train(model, config, train, valid, optimizer=False, loss=False):\n",
    "    train_loss_history = []\n",
    "    valid_loss_history = []\n",
    "    \n",
    "    optimizer = optimizer if optimizer else optim.Adam(model.parameters(), lr=config.learning_rate)\n",
    "    loss_function = loss if loss else nn.BCELoss()\n",
    "\n",
    "\n",
    "    for i in range(config.epochs):\n",
    "\n",
    "        train_loss_ = 0\n",
    "        model.train()\n",
    "        with torch.enable_grad():\n",
    "            for feature, label in train:\n",
    "                optimizer.zero_grad()\n",
    "                outputs = model(feature).view(-1)\n",
    "                loss = loss_function(outputs, label)\n",
    "                # loss.requires_grad_(True)\n",
    "                loss.backward()\n",
    "                optimizer.step()\n",
    "\n",
    "                train_loss_ += loss.item()\n",
    "\n",
    "        train_loss_ /= config.batch_size\n",
    "        train_loss_history.append(train_loss_)\n",
    "\n",
    "\n",
    "        valid_loss_ = 0\n",
    "        model.eval()\n",
    "        with torch.no_grad():\n",
    "            for feature, label in valid:\n",
    "                outputs = model(feature)\n",
    "                loss = loss_function(outputs.reshape(-1), label)\n",
    "                \n",
    "                valid_loss_ += loss.item()\n",
    "\n",
    "        valid_loss_ /= config.batch_size\n",
    "        valid_loss_history.append(valid_loss_)\n",
    "\n",
    "        if (i+1)%int((config.epochs)*0.1)==0:\n",
    "            print(f\"epoch : {i+1} Loss(train) : {train_loss_history[-1]:.3f}  Loss(valid) : {valid_loss_history[-1]:.3f}\")\n",
    "\n",
    "\n",
    "    \n",
    "    plt.plot(train_loss_history, label='Training loss')\n",
    "    plt.plot(valid_loss_history, label='Validation loss')\n",
    "    plt.legend()\n",
    "    plt.show()\n",
    "    print(\"=\"*40)\n",
    "    print(\"Training loss: \", train_loss_history[-1])\n",
    "    print(\"Validation loss: \", valid_loss_history[-1])\n",
    "    print(\"=\"*40)"
   ]
  },
  {
   "cell_type": "markdown",
   "metadata": {},
   "source": [
    "# Predict"
   ]
  },
  {
   "cell_type": "code",
   "execution_count": 4,
   "metadata": {},
   "outputs": [],
   "source": [
    "def predict_evaluate(model, test):\n",
    "    model.eval()\n",
    "    output_list = []\n",
    "    acc = []\n",
    "\n",
    "    y_pred = []\n",
    "    y_test = []\n",
    "    with torch.no_grad():\n",
    "        for feature, label in test:\n",
    "            outputs = model(feature)\n",
    "            output_list.append(outputs)\n",
    "            outputs = outputs.cpu()\n",
    "            outputs = (outputs > 0.5).float().view(-1)\n",
    "\n",
    "            label = label.cpu()\n",
    "            acc.append(accuracy_score(label, outputs))\n",
    "            y_pred.append(outputs)\n",
    "            y_test.append(label)\n",
    "\n",
    "\n",
    "    print(f\"Accuracy: {(sum(acc)/len(acc)):.3f}\")\n",
    "\n",
    "    return np.array(y_test).reshape(-1), np.array(y_pred).reshape(-1)"
   ]
  },
  {
   "cell_type": "markdown",
   "metadata": {},
   "source": [
    "# Hyperparameter config"
   ]
  },
  {
   "cell_type": "code",
   "execution_count": 5,
   "metadata": {},
   "outputs": [],
   "source": [
    "class config():\n",
    "    def __init__(self, max_size, vocab_size, em_output, rnn_node1, rnn_node2, drop_out_rate=0.5, learning_rate=0.001, patience_ratio=0.2, epochs=100, \n",
    "                 validation_split=0.2, batch_size = 128):\n",
    "        \n",
    "        self.vocab_size = vocab_size\n",
    "        self.em_output = em_output\n",
    "        self.max_size = max_size\n",
    "\n",
    "        self.rnn_node1 = rnn_node1\n",
    "        self.rnn_node2 = rnn_node2\n",
    "        self.drop_out_rate =drop_out_rate\n",
    "        self.learning_rate = learning_rate\n",
    "        self.patience = epochs * patience_ratio\n",
    "        self.batch_size = batch_size\n",
    "        self.epochs = epochs\n",
    "        self.validation_split = validation_split\n",
    "\n",
    "        self.device = device"
   ]
  },
  {
   "cell_type": "markdown",
   "metadata": {},
   "source": [
    "# Dataset"
   ]
  },
  {
   "cell_type": "code",
   "execution_count": 6,
   "metadata": {},
   "outputs": [],
   "source": [
    "class IMDBDataset(Dataset):\n",
    "    def __init__(self, X, y, max_size, device):\n",
    "        X_np = np.array([np.array(xi) for xi in X],dtype=object)\n",
    "        X_pad = np.zeros((len(X_np), max_size))\n",
    "        for i in range(len(X)):\n",
    "            pad_length = min(len(X_np[i]), max_size)\n",
    "            X_pad[i, :pad_length] = X_np[i][:pad_length]\n",
    "\n",
    "        self.X = torch.Tensor(X_pad).long().to(device)\n",
    "        self.y = torch.Tensor(y).to(device)\n",
    "\n",
    "\n",
    "    def __len__(self):\n",
    "        return len(self.X)\n",
    "\n",
    "\n",
    "    def __getitem__(self, idx):\n",
    "        return self.X[idx], self.y[idx]"
   ]
  },
  {
   "cell_type": "code",
   "execution_count": 7,
   "metadata": {},
   "outputs": [],
   "source": [
    "max_len = 100 # rnn의 장기의존성 이슈 때문에 max_len이 길 경우 학습이 제대로 진행되지 않음\n",
    "vocab_size = 10000\n",
    "batch_size = 200\n",
    "\n",
    "(X_trian, y_train), (X_test, y_test) = imdb.load_data(num_words=vocab_size)\n",
    "X_train, X_valid, y_train, y_valid = train_test_split(X_trian, y_train, train_size=0.8, stratify=y_train)\n",
    "\n",
    "\n",
    "train_dataset = IMDBDataset(X_train, y_train, max_len, device=device)\n",
    "valid_dataset = IMDBDataset(X_valid, y_valid, max_len, device=device)\n",
    "test_dataset = IMDBDataset(X_test, y_test, max_len, device=device)\n",
    "\n",
    "train_loader = DataLoader(train_dataset, batch_size=batch_size, shuffle=True)\n",
    "valid_loader = DataLoader(valid_dataset, batch_size=batch_size, shuffle=True)\n",
    "test_loader = DataLoader(test_dataset, batch_size=batch_size, shuffle=True)\n"
   ]
  },
  {
   "cell_type": "code",
   "execution_count": 8,
   "metadata": {},
   "outputs": [
    {
     "data": {
      "text/plain": [
       "torch.Size([20000, 100])"
      ]
     },
     "execution_count": 8,
     "metadata": {},
     "output_type": "execute_result"
    }
   ],
   "source": [
    "train_dataset.X.shape"
   ]
  },
  {
   "cell_type": "markdown",
   "metadata": {},
   "source": [
    "# Model"
   ]
  },
  {
   "cell_type": "code",
   "execution_count": 9,
   "metadata": {},
   "outputs": [],
   "source": [
    "rnn_config = config(vocab_size=vocab_size,\n",
    "                    max_size=max_len,\n",
    "                    em_output=64,\n",
    "\n",
    "                    rnn_node1=64,\n",
    "                    rnn_node2=32,\n",
    "\n",
    "                    drop_out_rate=0.5,\n",
    "                    learning_rate=0.001,\n",
    "                    # patience_ratio=0.3,\n",
    "                    epochs=150,\n",
    "                    batch_size=batch_size,\n",
    "                    )"
   ]
  },
  {
   "cell_type": "code",
   "execution_count": 10,
   "metadata": {},
   "outputs": [],
   "source": [
    "rnn = SimpleRNN(rnn_config).to(device)"
   ]
  },
  {
   "cell_type": "code",
   "execution_count": 11,
   "metadata": {},
   "outputs": [
    {
     "name": "stdout",
     "output_type": "stream",
     "text": [
      "epoch : 15 Loss(train) : 0.323  Loss(valid) : 0.085\n",
      "epoch : 30 Loss(train) : 0.252  Loss(valid) : 0.082\n",
      "epoch : 45 Loss(train) : 0.320  Loss(valid) : 0.082\n",
      "epoch : 60 Loss(train) : 0.209  Loss(valid) : 0.085\n",
      "epoch : 75 Loss(train) : 0.169  Loss(valid) : 0.095\n",
      "epoch : 90 Loss(train) : 0.306  Loss(valid) : 0.087\n",
      "epoch : 105 Loss(train) : 0.161  Loss(valid) : 0.094\n",
      "epoch : 120 Loss(train) : 0.155  Loss(valid) : 0.098\n",
      "epoch : 135 Loss(train) : 0.119  Loss(valid) : 0.115\n",
      "epoch : 150 Loss(train) : 0.117  Loss(valid) : 0.118\n"
     ]
    },
    {
     "data": {
      "image/png": "[encoded data removed]",
      "text/plain": [
       "<Figure size 640x480 with 1 Axes>"
      ]
     },
     "metadata": {},
     "output_type": "display_data"
    },
    {
     "name": "stdout",
     "output_type": "stream",
     "text": [
      "========================================\n",
      "Training loss:  0.11682049006223678\n",
      "Validation loss:  0.1182421761751175\n",
      "========================================\n"
     ]
    }
   ],
   "source": [
    "train(rnn, rnn_config, train_loader, valid_loader)"
   ]
  },
  {
   "cell_type": "markdown",
   "metadata": {},
   "source": [
    "# Evaluation"
   ]
  },
  {
   "cell_type": "code",
   "execution_count": 12,
   "metadata": {},
   "outputs": [
    {
     "name": "stdout",
     "output_type": "stream",
     "text": [
      "Accuracy: 0.672\n"
     ]
    }
   ],
   "source": [
    "y_test, y_pred = predict_evaluate(rnn, test_loader)"
   ]
  },
  {
   "cell_type": "code",
   "execution_count": 13,
   "metadata": {},
   "outputs": [
    {
     "name": "stdout",
     "output_type": "stream",
     "text": [
      "              precision    recall  f1-score   support\n",
      "\n",
      "         0.0       0.67      0.68      0.67     12500\n",
      "         1.0       0.67      0.67      0.67     12500\n",
      "\n",
      "    accuracy                           0.67     25000\n",
      "   macro avg       0.67      0.67      0.67     25000\n",
      "weighted avg       0.67      0.67      0.67     25000\n",
      "\n"
     ]
    }
   ],
   "source": [
    "print(classification_report(y_true=y_test, y_pred=y_pred))"
   ]
  },
  {
   "cell_type": "code",
   "execution_count": null,
   "metadata": {},
   "outputs": [],
   "source": []
  }
 ],
 "metadata": {
  "kernelspec": {
   "display_name": "Python 3",
   "language": "python",
   "name": "python3"
  },
  "language_info": {
   "codemirror_mode": {
    "name": "ipython",
    "version": 3
   },
   "file_extension": ".py",
   "mimetype": "text/x-python",
   "name": "python",
   "nbconvert_exporter": "python",
   "pygments_lexer": "ipython3",
   "version": "3.11.5"
  }
 },
 "nbformat": 4,
 "nbformat_minor": 2
}
