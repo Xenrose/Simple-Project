{
 "cells": [
  {
   "cell_type": "code",
   "execution_count": 4,
   "metadata": {},
   "outputs": [],
   "source": [
    "import numpy as np"
   ]
  },
  {
   "cell_type": "code",
   "execution_count": 5,
   "metadata": {},
   "outputs": [],
   "source": [
    "def OR(X1, X2):\n",
    "    X = np.array([X1, X2])\n",
    "    W = np.array([0.5, 0.5])\n",
    "    b = -0.4\n",
    "\n",
    "    output = np.sum(X*W) + b\n",
    "    return 1 if output>0 else 0\n",
    "\n",
    "\n",
    "def AND(X1, X2):\n",
    "    X = np.array([X1, X2])\n",
    "    W = np.array([0.5, 0.5])\n",
    "    b = -0.6\n",
    "\n",
    "    output = np.sum(X*W) + b\n",
    "    return 1 if output>0 else 0"
   ]
  },
  {
   "cell_type": "markdown",
   "metadata": {},
   "source": [
    "# OR_gate\n",
    "\n",
    "|X1|X2|output\n",
    "|--|--|--|\n",
    "|1|1|1|\n",
    "|1|0|1|\n",
    "|0|1|1|\n",
    "|0|0|0|\n",
    "\n",
    "# AND_gate\n",
    "\n",
    "|X1|X2|output\n",
    "|--|--|--|\n",
    "|1|1|1|\n",
    "|1|0|0|\n",
    "|0|1|0|\n",
    "|0|0|0|"
   ]
  },
  {
   "cell_type": "code",
   "execution_count": 6,
   "metadata": {},
   "outputs": [
    {
     "name": "stdout",
     "output_type": "stream",
     "text": [
      "OR_gate\n",
      "1\n",
      "1\n",
      "1\n",
      "0\n",
      "--------------------------\n",
      "AND_gate\n",
      "1\n",
      "0\n",
      "0\n",
      "0\n"
     ]
    }
   ],
   "source": [
    "print(\"OR_gate\")\n",
    "print(OR(1,1))\n",
    "print(OR(1,0))\n",
    "print(OR(0,1))\n",
    "print(OR(0,0))\n",
    "\n",
    "print(\"--------------------------\")\n",
    "print(\"AND_gate\")\n",
    "print(AND(1,1))\n",
    "print(AND(1,0))\n",
    "print(AND(0,1))\n",
    "print(AND(0,0))"
   ]
  },
  {
   "cell_type": "markdown",
   "metadata": {},
   "source": [
    "____"
   ]
  },
  {
   "cell_type": "code",
   "execution_count": 20,
   "metadata": {},
   "outputs": [],
   "source": [
    "def NOR(X1, X2):\n",
    "    X = np.array([X1, X2])\n",
    "    W = np.array([-0.5, -0.5])\n",
    "    b = 0.4\n",
    "\n",
    "    output = np.sum(X*W) + b\n",
    "    return 1 if output>0 else 0\n",
    "\n",
    "\n",
    "def NAND(X1, X2):\n",
    "    X = np.array([X1, X2])\n",
    "    W = np.array([0.5, 0.5])\n",
    "    b = -0.9\n",
    "\n",
    "    output = np.sum(X*W) + b\n",
    "    return 0 if output>0 else 1"
   ]
  },
  {
   "cell_type": "markdown",
   "metadata": {},
   "source": [
    "# NOR_gate\n",
    "\n",
    "|X1|X2|output\n",
    "|--|--|--|\n",
    "|1|1|0|\n",
    "|1|0|0|\n",
    "|0|1|0|\n",
    "|0|0|1|\n",
    "\n",
    "# NAND_gate\n",
    "\n",
    "|X1|X2|output\n",
    "|--|--|--|\n",
    "|1|1|0|\n",
    "|1|0|1|\n",
    "|0|1|1|\n",
    "|0|0|1|\n"
   ]
  },
  {
   "cell_type": "code",
   "execution_count": 21,
   "metadata": {},
   "outputs": [
    {
     "name": "stdout",
     "output_type": "stream",
     "text": [
      "NOR_gate\n",
      "0\n",
      "0\n",
      "0\n",
      "1\n",
      "--------------------------\n",
      "NAND_gate\n",
      "1\n",
      "1\n",
      "1\n",
      "0\n"
     ]
    }
   ],
   "source": [
    "print(\"NOR_gate\")\n",
    "print(NOR(1,1))\n",
    "print(NOR(1,0))\n",
    "print(NOR(0,1))\n",
    "print(NOR(0,0))\n",
    "\n",
    "print(\"--------------------------\")\n",
    "print(\"NAND_gate\")\n",
    "print(NAND(1,0))\n",
    "print(NAND(0,1))\n",
    "print(NAND(0,0))\n",
    "print(NAND(1,1))"
   ]
  },
  {
   "cell_type": "markdown",
   "metadata": {},
   "source": [
    "___"
   ]
  },
  {
   "cell_type": "code",
   "execution_count": 25,
   "metadata": {},
   "outputs": [],
   "source": [
    "def XOR(X1, X2):\n",
    "    X1_ = NAND(X1, X2)\n",
    "    X2_ = OR(X1, X2)\n",
    "\n",
    "    return AND(X1_, X2_)"
   ]
  },
  {
   "cell_type": "markdown",
   "metadata": {},
   "source": [
    "# XOR_gate\n",
    "\n",
    "|X1|X2|output\n",
    "|--|--|--|\n",
    "|1|1|0|\n",
    "|1|0|1|\n",
    "|0|1|1|\n",
    "|0|0|0|"
   ]
  },
  {
   "cell_type": "code",
   "execution_count": 24,
   "metadata": {},
   "outputs": [
    {
     "name": "stdout",
     "output_type": "stream",
     "text": [
      "XOR_gate\n",
      "0\n",
      "1\n",
      "1\n",
      "0\n"
     ]
    }
   ],
   "source": [
    "print(\"XOR_gate\")\n",
    "print(XOR(1,1))\n",
    "print(XOR(1,0))\n",
    "print(XOR(0,1))\n",
    "print(XOR(0,0))\n"
   ]
  }
 ],
 "metadata": {
  "kernelspec": {
   "display_name": "Python 3",
   "language": "python",
   "name": "python3"
  },
  "language_info": {
   "codemirror_mode": {
    "name": "ipython",
    "version": 3
   },
   "file_extension": ".py",
   "mimetype": "text/x-python",
   "name": "python",
   "nbconvert_exporter": "python",
   "pygments_lexer": "ipython3",
   "version": "3.10.7"
  },
  "orig_nbformat": 4
 },
 "nbformat": 4,
 "nbformat_minor": 2
}
