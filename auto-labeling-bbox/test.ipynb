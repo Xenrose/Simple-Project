{
 "cells": [
  {
   "cell_type": "code",
   "execution_count": 5,
   "metadata": {},
   "outputs": [],
   "source": [
    "from pathlib import Path\n",
    "from collections import OrderedDict\n",
    "import json, sys, os\n",
    "\n",
    "\n",
    "try:\n",
    "    from ultralytics import YOLO\n",
    "except:\n",
    "    os.system('pip install -r requirements.txt')\n",
    "    from ultralytics import YOLO"
   ]
  },
  {
   "cell_type": "code",
   "execution_count": 81,
   "metadata": {},
   "outputs": [],
   "source": [
    "\n",
    "model = YOLO('yolov8n.pt')\n",
    "\n",
    "\n",
    "def export_json(bbox_info, output_path):\n",
    "    output = OrderedDict()\n",
    "    \n",
    "    objects = []\n",
    "    for i in range(len(bbox_info.boxes.cls)):\n",
    "        objects.append(\\\n",
    "            OrderedDict({\"id\": i+1,\n",
    "                         \"clsss\": bbox_info.names[int(bbox_info.boxes.cls[i])],\n",
    "                         \"confidence\": float(bbox_info.boxes.conf[i]),\n",
    "                         \"bbox\": bbox_info.boxes.xyxy[i].tolist()}))\n",
    "        \n",
    "    output[\"objects\"] = objects\n",
    "    output[\"info\"] = \\\n",
    "        OrderedDict({\"path\": bbox_info.path,\n",
    "                     \"width\": bbox_info.boxes.orig_shape[0],\n",
    "                     \"height\": bbox_info.boxes.orig_shape[1],\n",
    "                     \"class_list\": bbox_info.names})\n",
    "\n",
    "\n",
    "    json.dump(output,\n",
    "              open(Path(output_path, Path(bbox_info.path).stem + \".json\"), 'w', encoding='utf-8'),\n",
    "              indent=4,\n",
    "              ensure_ascii=False)\n",
    "    \n",
    "    \n"
   ]
  },
  {
   "cell_type": "code",
   "execution_count": 82,
   "metadata": {},
   "outputs": [
    {
     "name": "stdout",
     "output_type": "stream",
     "text": [
      "\n",
      "image 1/34 c:\\Users\\alcheraa\\Desktop\\\\self\\my_git\\auto-labeling\\sample_data\\sample_1.jpg: 640x512 2 persons, 2 dogs, 1 tie, 146.4ms\n",
      "image 2/34 c:\\Users\\alcheraa\\Desktop\\\\self\\my_git\\auto-labeling\\sample_data\\sample_10.jpg: 320x640 13 persons, 1 car, 1 dog, 1 sheep, 85.2ms\n",
      "image 3/34 c:\\Users\\alcheraa\\Desktop\\\\self\\my_git\\auto-labeling\\sample_data\\sample_11.jpg: 448x640 4 persons, 1 dog, 116.7ms\n",
      "image 4/34 c:\\Users\\alcheraa\\Desktop\\\\self\\my_git\\auto-labeling\\sample_data\\sample_12.jpg: 448x640 1 person, 2 dogs, 1 bed, 133.3ms\n",
      "image 5/34 c:\\Users\\alcheraa\\Desktop\\\\self\\my_git\\auto-labeling\\sample_data\\sample_13.jpg: 448x640 2 dogs, 118.6ms\n",
      "image 6/34 c:\\Users\\alcheraa\\Desktop\\\\self\\my_git\\auto-labeling\\sample_data\\sample_14.jpg: 608x640 1 cat, 2 dogs, 1 teddy bear, 162.6ms\n",
      "image 7/34 c:\\Users\\alcheraa\\Desktop\\\\self\\my_git\\auto-labeling\\sample_data\\sample_15.jpg: 384x640 1 cup, 1 dining table, 97.1ms\n",
      "image 8/34 c:\\Users\\alcheraa\\Desktop\\\\self\\my_git\\auto-labeling\\sample_data\\sample_16.jpg: 384x640 1 person, 1 horse, 104.4ms\n",
      "image 9/34 c:\\Users\\alcheraa\\Desktop\\\\self\\my_git\\auto-labeling\\sample_data\\sample_17.jpg: 384x640 2 persons, 5 dogs, 3 sports balls, 1 baseball bat, 116.4ms\n",
      "image 10/34 c:\\Users\\alcheraa\\Desktop\\\\self\\my_git\\auto-labeling\\sample_data\\sample_18.jpg: 448x640 1 cat, 129.6ms\n",
      "image 11/34 c:\\Users\\alcheraa\\Desktop\\\\self\\my_git\\auto-labeling\\sample_data\\sample_19.jpg: 640x416 2 persons, 1 bear, 116.5ms\n",
      "image 12/34 c:\\Users\\alcheraa\\Desktop\\\\self\\my_git\\auto-labeling\\sample_data\\sample_2.jpg: 512x640 2 persons, 2 dogs, 1 tie, 152.9ms\n",
      "image 13/34 c:\\Users\\alcheraa\\Desktop\\\\self\\my_git\\auto-labeling\\sample_data\\sample_20.jpg: 416x640 5 dogs, 116.0ms\n",
      "image 14/34 c:\\Users\\alcheraa\\Desktop\\\\self\\my_git\\auto-labeling\\sample_data\\sample_21.jpg: 448x640 2 persons, 2 horses, 133.1ms\n",
      "image 15/34 c:\\Users\\alcheraa\\Desktop\\\\self\\my_git\\auto-labeling\\sample_data\\sample_22.jpg: 352x640 1 person, 1 dog, 1 frisbee, 100.0ms\n",
      "image 16/34 c:\\Users\\alcheraa\\Desktop\\\\self\\my_git\\auto-labeling\\sample_data\\sample_23.jpg: 480x640 1 bicycle, 1 car, 1 truck, 1 dog, 133.9ms\n",
      "image 17/34 c:\\Users\\alcheraa\\Desktop\\\\self\\my_git\\auto-labeling\\sample_data\\sample_24.jpg: 480x640 1 cat, 133.4ms\n",
      "image 18/34 c:\\Users\\alcheraa\\Desktop\\\\self\\my_git\\auto-labeling\\sample_data\\sample_25.jpg: 608x640 1 cat, 1 bed, 166.4ms\n",
      "image 19/34 c:\\Users\\alcheraa\\Desktop\\\\self\\my_git\\auto-labeling\\sample_data\\sample_26.jpg: 480x640 2 cats, 3 chairs, 147.2ms\n",
      "image 20/34 c:\\Users\\alcheraa\\Desktop\\\\self\\my_git\\auto-labeling\\sample_data\\sample_27.jpg: 448x640 4 dogs, 132.1ms\n",
      "image 21/34 c:\\Users\\alcheraa\\Desktop\\\\self\\my_git\\auto-labeling\\sample_data\\sample_28.jpg: 448x640 1 person, 1 dog, 1 horse, 133.6ms\n",
      "image 22/34 c:\\Users\\alcheraa\\Desktop\\\\self\\my_git\\auto-labeling\\sample_data\\sample_29.jpg: 512x640 1 person, 1 dog, 149.4ms\n",
      "image 23/34 c:\\Users\\alcheraa\\Desktop\\\\self\\my_git\\auto-labeling\\sample_data\\sample_3.jpg: 384x640 3 persons, 1 bench, 1 dog, 1 horse, 115.5ms\n",
      "image 24/34 c:\\Users\\alcheraa\\Desktop\\\\self\\my_git\\auto-labeling\\sample_data\\sample_30.jpg: 640x512 1 person, 2 cats, 150.5ms\n",
      "image 25/34 c:\\Users\\alcheraa\\Desktop\\\\self\\my_git\\auto-labeling\\sample_data\\sample_31.jpg: 512x640 2 persons, 3 dogs, 132.8ms\n",
      "image 26/34 c:\\Users\\alcheraa\\Desktop\\\\self\\my_git\\auto-labeling\\sample_data\\sample_32.jpg: 448x640 4 persons, 1 dog, 1 bottle, 1 tv, 2 laptops, 2 mouses, 1 keyboard, 1 cell phone, 116.7ms\n",
      "image 27/34 c:\\Users\\alcheraa\\Desktop\\\\self\\my_git\\auto-labeling\\sample_data\\sample_33.jpg: 384x640 1 person, 1 dog, 100.2ms\n",
      "image 28/34 c:\\Users\\alcheraa\\Desktop\\\\self\\my_git\\auto-labeling\\sample_data\\sample_34.jpg: 448x640 1 person, 1 dog, 2 chairs, 1 couch, 2 potted plants, 1 oven, 116.9ms\n",
      "image 29/34 c:\\Users\\alcheraa\\Desktop\\\\self\\my_git\\auto-labeling\\sample_data\\sample_4.jpg: 448x640 3 persons, 2 horses, 3 cows, 116.5ms\n",
      "image 30/34 c:\\Users\\alcheraa\\Desktop\\\\self\\my_git\\auto-labeling\\sample_data\\sample_5.jpg: 448x640 1 person, 2 horses, 133.2ms\n",
      "image 31/34 c:\\Users\\alcheraa\\Desktop\\\\self\\my_git\\auto-labeling\\sample_data\\sample_6.jpg: 448x640 3 persons, 3 dogs, 115.3ms\n",
      "image 32/34 c:\\Users\\alcheraa\\Desktop\\\\self\\my_git\\auto-labeling\\sample_data\\sample_7.jpg: 448x640 1 apple, 127.8ms\n",
      "image 33/34 c:\\Users\\alcheraa\\Desktop\\\\self\\my_git\\auto-labeling\\sample_data\\sample_8.jpg: 640x640 1 person, 2 dogs, 1 chair, 1 laptop, 186.7ms\n",
      "image 34/34 c:\\Users\\alcheraa\\Desktop\\\\self\\my_git\\auto-labeling\\sample_data\\sample_9.jpg: 640x640 3 persons, 1 dog, 185.1ms\n",
      "Speed: 1.6ms preprocess, 130.1ms inference, 2.0ms postprocess per image at shape (1, 3, 640, 640)\n"
     ]
    }
   ],
   "source": [
    "\n",
    "if __name__ == \"__main__\":\n",
    "    # code_path, input_path, output_path = map(Path, sys.argv)\n",
    "    test_path = [\".\", \"sample_data\", \"auto_bbox\"]\n",
    "    code_path, input_path, output_path = map(Path, test_path)\n",
    "\n",
    "    results = model(input_path)  \n",
    "\n",
    "    for result in results:\n",
    "        export_json(result, output_path)\n",
    "        result.save(Path(output_path, Path(result.path).name))\n"
   ]
  },
  {
   "cell_type": "code",
   "execution_count": null,
   "metadata": {},
   "outputs": [],
   "source": []
  }
 ],
 "metadata": {
  "kernelspec": {
   "display_name": "Python 3",
   "language": "python",
   "name": "python3"
  },
  "language_info": {
   "codemirror_mode": {
    "name": "ipython",
    "version": 3
   },
   "file_extension": ".py",
   "mimetype": "text/x-python",
   "name": "python",
   "nbconvert_exporter": "python",
   "pygments_lexer": "ipython3",
   "version": "3.11.9"
  }
 },
 "nbformat": 4,
 "nbformat_minor": 2
}
